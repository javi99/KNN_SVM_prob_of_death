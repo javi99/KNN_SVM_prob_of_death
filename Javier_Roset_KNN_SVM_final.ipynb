{
 "cells": [
  {
   "cell_type": "markdown",
   "metadata": {
    "id": "nLlpKoeKoPta"
   },
   "source": [
    "<img src = \"../../Data/bgsedsc_0.jpg\">"
   ]
  },
  {
   "attachments": {},
   "cell_type": "markdown",
   "metadata": {
    "id": "FfhhOZ6joPte"
   },
   "source": [
    "# KNN - SVM project"
   ]
  },
  {
   "attachments": {},
   "cell_type": "markdown",
   "metadata": {
    "id": "ZUHBq01FoPte"
   },
   "source": [
    "## Programming project: probability of death\n",
    "\n",
    "In this project, you have to predict the probability of death of a patient that is entering an ICU (Intensive Care Unit).\n",
    "\n",
    "The dataset comes from MIMIC project (https://mimic.physionet.org/). MIMIC-III (Medical Information Mart for Intensive Care III) is a large, freely-available database comprising deidentified health-related data associated with over forty thousand patients who stayed in critical care units of the Beth Israel Deaconess Medical Center between 2001 and 2012.\n",
    "\n",
    "Each row of *mimic_train.csv* correponds to one ICU stay (*icustay_id*+*icustay_id*) of one patient (*subject_id*). Column HOSPITAL_EXPIRE_FLAG is the indicator of death (=1) as a result of the current hospital stay; this is the outcome to predict in our modelling exercise.\n",
    "The remaining columns correspond to vitals of each patient (when entering the ICU), plus some general characteristics (age, gender, etc.), and their explanation can be found at *mimic_patient_metadata.csv*. \n",
    "\n",
    "Please don't use any feature that you infer you don't know the first day of a patient in an ICU.\n",
    "\n",
    "Note that the main cause/disease of patient condition is embedded as a code at *ICD9_diagnosis* column. The meaning of this code can be found at *MIMIC_metadata_diagnose.csv*. **But** this is only the main one; a patient can have co-occurrent diseases (comorbidities). These secondary codes can be found at *extra_data/MIMIC_diagnoses.csv*.\n",
    "\n",
    "As performance metric, you can use *AUC* for the binary classification case, but feel free to report as well any other metric if you can justify that is particularly suitable for this case.\n",
    "\n",
    "Main tasks are:\n",
    "+ Using *mimic_train.csv* file build a predictive model for *HOSPITAL_EXPIRE_FLAG* .\n",
    "+ For this analysis there is an extra test dataset, *mimic_test_death.csv*. Apply your final model to this extra dataset and generate predictions following the same format as *mimic_kaggle_death_sample_submission.csv*. Once ready, you can submit to our Kaggle competition and iterate to improve the accuracy.\n",
    "\n",
    "As a *bonus*, try different algorithms for neighbor search and for distance, and justify final selection. Try also different weights to cope with class imbalance and also to balance neighbor proximity. Try to assess somehow confidence interval of predictions.\n",
    "\n",
    "You can follow those **steps** in your first implementation:\n",
    "1. *Explore* and understand the dataset. \n",
    "2. Manage missing data.\n",
    "2. Manage categorial features. E.g. create *dummy variables* for relevant categorical features, or build an ad hoc distance function.\n",
    "3. Build a prediction model.\n",
    "5. Assess expected accuracy and tune your models using *cross-validation*. \n",
    "6. Test the performance on the test file and report accuracy, following same preparation steps (missing data, dummies, etc). Remember that you should be able to yield a prediction for all the rows of the test dataset.\n",
    "\n",
    "Feel free to reduce the training dataset if you experience computational constraints.\n"
   ]
  },
  {
   "attachments": {},
   "cell_type": "markdown",
   "metadata": {},
   "source": [
    "# Importing packages, defining functions and global variables"
   ]
  },
  {
   "attachments": {},
   "cell_type": "markdown",
   "metadata": {},
   "source": [
    "In this section we will import all packages used and we will also define some functions that will be used further in the notebook"
   ]
  },
  {
   "cell_type": "code",
   "execution_count": 224,
   "metadata": {},
   "outputs": [],
   "source": [
    "import pandas as pd\n",
    "import numpy as np\n",
    "\n",
    "from sklearn.experimental import enable_iterative_imputer\n",
    "from sklearn.impute import IterativeImputer, KNNImputer\n",
    "from sklearn.preprocessing import StandardScaler, RobustScaler\n",
    "from sklearn.ensemble import RandomForestClassifier\n",
    "\n",
    "from datetime import timedelta\n",
    "import datetime as datetime\n",
    "\n",
    "from sklearn.model_selection import GridSearchCV\n",
    "from sklearn.neighbors import KNeighborsClassifier\n",
    "from sklearn.svm import SVC\n",
    "\n",
    "import seaborn as sns"
   ]
  },
  {
   "cell_type": "code",
   "execution_count": 225,
   "metadata": {},
   "outputs": [],
   "source": [
    "SEED = 10\n",
    "COLUMNS_TO_DROP = [\"DOD\",\"DISCHTIME\",\"DEATHTIME\",\"subject_id\", \"LOS\"]"
   ]
  },
  {
   "cell_type": "code",
   "execution_count": 384,
   "metadata": {},
   "outputs": [],
   "source": [
    "#functions\n",
    "def df_separator_dataType(df, dataType):\n",
    "    \"\"\"This function allows for the selection of a subsample of a dataFrame\n",
    "    in terms of dataType columns.\"\"\"\n",
    "    features_list = [feat for feat in df.select_dtypes(include = dataType).columns]\n",
    "    return df[features_list].copy()\n",
    "\n",
    "def age_from_data(df, birth_column, measure_time_column, diff_column):\n",
    "    \"\"\"This function gets a dataframe with birth date, time of measure, and lag in\n",
    "    all measures columns, and creates the columns age, month, year and hour (of time of measure),\n",
    "    and a binary variable to describe if the measured time was at night or not. It then deletes \n",
    "    the columns introduced as arguments of the dataframe.\"\"\"\n",
    "    df = df.copy()\n",
    "    #transform diff into a datatype that can be operated with datetime objects\n",
    "    df[diff_column]=df.apply(lambda x: timedelta(days=-int(x[diff_column])),axis=1)\n",
    "    #transforming date string to datetime object\n",
    "    df[birth_column] = df.apply(lambda x: datetime.datetime.strptime(x[birth_column],'%Y-%m-%d %H:%M:%S'),axis=1)\n",
    "    #substracting days of diff from datetime\n",
    "    df[birth_column] = df.apply(lambda x: (x[birth_column].to_pydatetime() - x[diff_column]),axis=1)\n",
    "    #transforming date string to datetime object\n",
    "    df[measure_time_column] = df.apply(lambda x: datetime.datetime.strptime(x[measure_time_column],'%Y-%m-%d %H:%M:%S'),axis=1)\n",
    "    #substracting days of diff from datetime\n",
    "    df[measure_time_column] = df.apply(lambda x: (x[measure_time_column].to_pydatetime() - x[diff_column]),axis=1)\n",
    "    #calculating age\n",
    "    df['age']=df.apply(lambda x: ((x[measure_time_column].to_pydatetime() - x[birth_column].to_pydatetime()).days)/365,axis=1)\n",
    "    \n",
    "    df['month'] = df[measure_time_column].apply(lambda x: x.month)\n",
    "    df['year'] = df[measure_time_column].apply(lambda x: x.year)\n",
    "    df['hour'] = df[measure_time_column].apply(lambda x: x.hour)\n",
    "    #getting a binary column to know if they entered at night\n",
    "    df['night_entrance']=np.where((df['hour'] > 22) | (df['hour'] < 6) , 1, 0)\n",
    "    #deleting original columns\n",
    "    df = df.drop([birth_column, measure_time_column, diff_column], axis = 1)\n",
    "\n",
    "    return df\n",
    "\n",
    "def reweight(pi,q1=0.5,r1=0.5):\n",
    "    \"\"\"This function is used for reweighting the probabilities in the SVM\n",
    "    prediction\"\"\"\n",
    "    r0 = 1-r1\n",
    "    q0 = 1-q1\n",
    "    tot = pi*(q1/r1)+(1-pi)*(q0/r0)\n",
    "    w = pi*(q1/r1)\n",
    "    w /= tot\n",
    "    return w"
   ]
  },
  {
   "attachments": {},
   "cell_type": "markdown",
   "metadata": {},
   "source": [
    "## Data preparation"
   ]
  },
  {
   "attachments": {},
   "cell_type": "markdown",
   "metadata": {},
   "source": [
    "#### Data loading"
   ]
  },
  {
   "cell_type": "code",
   "execution_count": 227,
   "metadata": {},
   "outputs": [],
   "source": [
    "data=pd.read_csv('Data/mimic_train.csv')\n",
    "data_test=pd.read_csv('Data/mimic_test_death.csv')"
   ]
  },
  {
   "attachments": {},
   "cell_type": "markdown",
   "metadata": {},
   "source": [
    "We will need to drop columns that we don't know on the first day of a patient in an ICU or are unnecessary ids"
   ]
  },
  {
   "cell_type": "code",
   "execution_count": 228,
   "metadata": {},
   "outputs": [],
   "source": [
    "for column in COLUMNS_TO_DROP:\n",
    "    try:\n",
    "        data = data.drop(column, axis = 1)\n",
    "        data_test = data_test.drop(column, axis = 1)\n",
    "    except:\n",
    "        continue"
   ]
  },
  {
   "cell_type": "code",
   "execution_count": 229,
   "metadata": {},
   "outputs": [
    {
     "name": "stdout",
     "output_type": "stream",
     "text": [
      "Index(['HOSPITAL_EXPIRE_FLAG', 'hadm_id', 'icustay_id', 'HeartRate_Min',\n",
      "       'HeartRate_Max', 'HeartRate_Mean', 'SysBP_Min', 'SysBP_Max',\n",
      "       'SysBP_Mean', 'DiasBP_Min', 'DiasBP_Max', 'DiasBP_Mean', 'MeanBP_Min',\n",
      "       'MeanBP_Max', 'MeanBP_Mean', 'RespRate_Min', 'RespRate_Max',\n",
      "       'RespRate_Mean', 'TempC_Min', 'TempC_Max', 'TempC_Mean', 'SpO2_Min',\n",
      "       'SpO2_Max', 'SpO2_Mean', 'Glucose_Min', 'Glucose_Max', 'Glucose_Mean',\n",
      "       'GENDER', 'DOB', 'ADMITTIME', 'Diff', 'ADMISSION_TYPE', 'INSURANCE',\n",
      "       'RELIGION', 'MARITAL_STATUS', 'ETHNICITY', 'DIAGNOSIS',\n",
      "       'ICD9_diagnosis', 'FIRST_CAREUNIT'],\n",
      "      dtype='object')\n",
      "39\n",
      "Index(['hadm_id', 'icustay_id', 'HeartRate_Min', 'HeartRate_Max',\n",
      "       'HeartRate_Mean', 'SysBP_Min', 'SysBP_Max', 'SysBP_Mean', 'DiasBP_Min',\n",
      "       'DiasBP_Max', 'DiasBP_Mean', 'MeanBP_Min', 'MeanBP_Max', 'MeanBP_Mean',\n",
      "       'RespRate_Min', 'RespRate_Max', 'RespRate_Mean', 'TempC_Min',\n",
      "       'TempC_Max', 'TempC_Mean', 'SpO2_Min', 'SpO2_Max', 'SpO2_Mean',\n",
      "       'Glucose_Min', 'Glucose_Max', 'Glucose_Mean', 'GENDER', 'DOB',\n",
      "       'ADMITTIME', 'Diff', 'ADMISSION_TYPE', 'INSURANCE', 'RELIGION',\n",
      "       'MARITAL_STATUS', 'ETHNICITY', 'DIAGNOSIS', 'ICD9_diagnosis',\n",
      "       'FIRST_CAREUNIT'],\n",
      "      dtype='object')\n",
      "38\n"
     ]
    }
   ],
   "source": [
    "print(data.columns)\n",
    "print(len(data.columns))\n",
    "print(data_test.columns)\n",
    "print(len(data_test.columns))"
   ]
  },
  {
   "attachments": {},
   "cell_type": "markdown",
   "metadata": {},
   "source": [
    "The only different column between data and data_test is HOSPITAL_EXPIRE_FLAG, the target feature. Now we can analyze the quantity of nan values for each dataset:"
   ]
  },
  {
   "cell_type": "code",
   "execution_count": 230,
   "metadata": {},
   "outputs": [
    {
     "name": "stdout",
     "output_type": "stream",
     "text": [
      "<class 'pandas.core.frame.DataFrame'>\n",
      "RangeIndex: 20885 entries, 0 to 20884\n",
      "Data columns (total 39 columns):\n",
      " #   Column                Non-Null Count  Dtype  \n",
      "---  ------                --------------  -----  \n",
      " 0   HOSPITAL_EXPIRE_FLAG  20885 non-null  int64  \n",
      " 1   hadm_id               20885 non-null  int64  \n",
      " 2   icustay_id            20885 non-null  int64  \n",
      " 3   HeartRate_Min         18698 non-null  float64\n",
      " 4   HeartRate_Max         18698 non-null  float64\n",
      " 5   HeartRate_Mean        18698 non-null  float64\n",
      " 6   SysBP_Min             18677 non-null  float64\n",
      " 7   SysBP_Max             18677 non-null  float64\n",
      " 8   SysBP_Mean            18677 non-null  float64\n",
      " 9   DiasBP_Min            18676 non-null  float64\n",
      " 10  DiasBP_Max            18676 non-null  float64\n",
      " 11  DiasBP_Mean           18676 non-null  float64\n",
      " 12  MeanBP_Min            18699 non-null  float64\n",
      " 13  MeanBP_Max            18699 non-null  float64\n",
      " 14  MeanBP_Mean           18699 non-null  float64\n",
      " 15  RespRate_Min          18696 non-null  float64\n",
      " 16  RespRate_Max          18696 non-null  float64\n",
      " 17  RespRate_Mean         18696 non-null  float64\n",
      " 18  TempC_Min             18388 non-null  float64\n",
      " 19  TempC_Max             18388 non-null  float64\n",
      " 20  TempC_Mean            18388 non-null  float64\n",
      " 21  SpO2_Min              18682 non-null  float64\n",
      " 22  SpO2_Max              18682 non-null  float64\n",
      " 23  SpO2_Mean             18682 non-null  float64\n",
      " 24  Glucose_Min           20632 non-null  float64\n",
      " 25  Glucose_Max           20632 non-null  float64\n",
      " 26  Glucose_Mean          20632 non-null  float64\n",
      " 27  GENDER                20885 non-null  object \n",
      " 28  DOB                   20885 non-null  object \n",
      " 29  ADMITTIME             20885 non-null  object \n",
      " 30  Diff                  20885 non-null  float64\n",
      " 31  ADMISSION_TYPE        20885 non-null  object \n",
      " 32  INSURANCE             20885 non-null  object \n",
      " 33  RELIGION              20885 non-null  object \n",
      " 34  MARITAL_STATUS        20163 non-null  object \n",
      " 35  ETHNICITY             20885 non-null  object \n",
      " 36  DIAGNOSIS             20885 non-null  object \n",
      " 37  ICD9_diagnosis        20885 non-null  object \n",
      " 38  FIRST_CAREUNIT        20885 non-null  object \n",
      "dtypes: float64(25), int64(3), object(11)\n",
      "memory usage: 6.2+ MB\n"
     ]
    }
   ],
   "source": [
    "data.info()"
   ]
  },
  {
   "cell_type": "code",
   "execution_count": 231,
   "metadata": {},
   "outputs": [
    {
     "data": {
      "text/plain": [
       "HOSPITAL_EXPIRE_FLAG       0\n",
       "hadm_id                    0\n",
       "icustay_id                 0\n",
       "HeartRate_Min           2187\n",
       "HeartRate_Max           2187\n",
       "HeartRate_Mean          2187\n",
       "SysBP_Min               2208\n",
       "SysBP_Max               2208\n",
       "SysBP_Mean              2208\n",
       "DiasBP_Min              2209\n",
       "dtype: int64"
      ]
     },
     "execution_count": 231,
     "metadata": {},
     "output_type": "execute_result"
    }
   ],
   "source": [
    "data.isna().sum()[:10]"
   ]
  },
  {
   "cell_type": "code",
   "execution_count": 232,
   "metadata": {},
   "outputs": [
    {
     "data": {
      "text/plain": [
       "hadm_id             0\n",
       "icustay_id          0\n",
       "HeartRate_Min     545\n",
       "HeartRate_Max     545\n",
       "HeartRate_Mean    545\n",
       "SysBP_Min         551\n",
       "SysBP_Max         551\n",
       "SysBP_Mean        551\n",
       "DiasBP_Min        552\n",
       "DiasBP_Max        552\n",
       "dtype: int64"
      ]
     },
     "execution_count": 232,
     "metadata": {},
     "output_type": "execute_result"
    }
   ],
   "source": [
    "data_test.isna().sum()[:10]"
   ]
  },
  {
   "attachments": {},
   "cell_type": "markdown",
   "metadata": {},
   "source": [
    "We see that there are approximatelly 10% of the data with NaN values, so it is interesting to find a way of imputing them. At the same time, the test set also has NaN values, and we cannot drop any column there. Which makes imputing even more important."
   ]
  },
  {
   "attachments": {},
   "cell_type": "markdown",
   "metadata": {},
   "source": [
    "### Formating dates features"
   ]
  },
  {
   "attachments": {},
   "cell_type": "markdown",
   "metadata": {},
   "source": [
    "As there is some interesting information (as age for example) contained in all date related columns, we need to process them"
   ]
  },
  {
   "cell_type": "code",
   "execution_count": 233,
   "metadata": {},
   "outputs": [],
   "source": [
    "#processing time data to calculate age\n",
    "data = age_from_data(data, \"DOB\", \"ADMITTIME\", \"Diff\")\n",
    "data_test = age_from_data(data_test, \"DOB\", \"ADMITTIME\", \"Diff\")"
   ]
  },
  {
   "cell_type": "code",
   "execution_count": 234,
   "metadata": {},
   "outputs": [],
   "source": [
    "#we will substitute values with an age higher than 100 years with a NaN to latter impute it with an imputer\n",
    "data.loc[data[\"age\"]>100,\"age\"] = np.nan\n",
    "data_test.loc[data_test[\"age\"]>100,\"age\"] = np.nan"
   ]
  },
  {
   "cell_type": "code",
   "execution_count": 235,
   "metadata": {},
   "outputs": [
    {
     "name": "stdout",
     "output_type": "stream",
     "text": [
      "1107\n",
      "270\n"
     ]
    }
   ],
   "source": [
    "#checking it has worked fine\n",
    "print(data[\"age\"].isna().sum())\n",
    "print(data_test[\"age\"].isna().sum())"
   ]
  },
  {
   "attachments": {},
   "cell_type": "markdown",
   "metadata": {},
   "source": [
    "### Adding comorbidities"
   ]
  },
  {
   "attachments": {},
   "cell_type": "markdown",
   "metadata": {},
   "source": [
    "We will also add information about the comorbidities, as this can give some interesting infromation for inference. It makes sense to think that the more number of comorbidities a pacient has when it enters the ICU, the less probabilities of surviving he or she has. "
   ]
  },
  {
   "cell_type": "code",
   "execution_count": 236,
   "metadata": {},
   "outputs": [
    {
     "name": "stdout",
     "output_type": "stream",
     "text": [
      "<class 'pandas.core.frame.DataFrame'>\n",
      "RangeIndex: 651047 entries, 0 to 651046\n",
      "Data columns (total 4 columns):\n",
      " #   Column      Non-Null Count   Dtype  \n",
      "---  ------      --------------   -----  \n",
      " 0   SUBJECT_ID  651047 non-null  int64  \n",
      " 1   HADM_ID     651047 non-null  int64  \n",
      " 2   SEQ_NUM     651000 non-null  float64\n",
      " 3   ICD9_CODE   651000 non-null  object \n",
      "dtypes: float64(1), int64(2), object(1)\n",
      "memory usage: 19.9+ MB\n"
     ]
    }
   ],
   "source": [
    "data_extra = pd.read_csv(\"Data/extra_data/MIMIC_diagnoses.csv\")\n",
    "data_extra.info()"
   ]
  },
  {
   "cell_type": "code",
   "execution_count": 237,
   "metadata": {},
   "outputs": [
    {
     "data": {
      "text/plain": [
       "141249    39\n",
       "194067    39\n",
       "115833    39\n",
       "177317    39\n",
       "173748    39\n",
       "          ..\n",
       "126552     1\n",
       "179808     1\n",
       "151596     1\n",
       "148607     1\n",
       "173719     1\n",
       "Name: HADM_ID, Length: 58976, dtype: int64"
      ]
     },
     "execution_count": 237,
     "metadata": {},
     "output_type": "execute_result"
    }
   ],
   "source": [
    "#building a df with icustay_id, and number of comorbidities. This df has a row for each comorbidity, \n",
    "#so if we count all the rows per icustay_id we should get the number of comorbidities per icustay_id\n",
    "# be aware that this df has a lot more icustay_id than the training dataset, so we cannot inner merge\n",
    "comorbidities_num = data_extra[\"HADM_ID\"].value_counts()\n",
    "comorbidities_num\n"
   ]
  },
  {
   "cell_type": "code",
   "execution_count": 238,
   "metadata": {},
   "outputs": [],
   "source": [
    "data = pd.merge(data, comorbidities_num, left_on=\"hadm_id\", right_index=True, how=\"left\")\n",
    "data_test = pd.merge(data_test, comorbidities_num, left_on=\"hadm_id\", right_index=True, how=\"left\")"
   ]
  },
  {
   "cell_type": "code",
   "execution_count": 239,
   "metadata": {},
   "outputs": [],
   "source": [
    "data = data.rename(columns={'HADM_ID': 'comorbidity_counts'})\n",
    "data = data.drop(\"hadm_id\", axis = 1)\n",
    "\n",
    "data_test = data_test.rename(columns={'HADM_ID': 'comorbidity_counts'})\n",
    "data_test = data_test.drop(\"hadm_id\", axis = 1)"
   ]
  },
  {
   "attachments": {},
   "cell_type": "markdown",
   "metadata": {},
   "source": [
    "## Preprocessing"
   ]
  },
  {
   "cell_type": "code",
   "execution_count": 240,
   "metadata": {},
   "outputs": [],
   "source": [
    "# First we separate datasets into numerical and categorical data\n",
    "data_train_num = df_separator_dataType(data, np.number)\n",
    "data_train_cat = df_separator_dataType(data, object)\n",
    "data_train_cat[\"icustay_id\"] = data_train_num[\"icustay_id\"]\n",
    "\n",
    "data_test_num = df_separator_dataType(data_test, np.number)\n",
    "data_test_cat = df_separator_dataType(data_test, object)\n",
    "data_test_cat[\"icustay_id\"] = data_test_num[\"icustay_id\"]"
   ]
  },
  {
   "attachments": {},
   "cell_type": "markdown",
   "metadata": {},
   "source": [
    "## Numerical processing"
   ]
  },
  {
   "attachments": {},
   "cell_type": "markdown",
   "metadata": {},
   "source": [
    "### Feature importance"
   ]
  },
  {
   "attachments": {},
   "cell_type": "markdown",
   "metadata": {},
   "source": [
    "The first interesting think we can do is analyze which columns have less correlation with the target. We can delete those columns that we consider do not add any information, as they can be more harmful than helpful. A threshold of 5% correlation will be used to determine which columns to get rid of."
   ]
  },
  {
   "cell_type": "code",
   "execution_count": 241,
   "metadata": {},
   "outputs": [
    {
     "data": {
      "image/png": "[encoded data removed]",
      "text/plain": [
       "<Figure size 1584x1080 with 2 Axes>"
      ]
     },
     "metadata": {
      "needs_background": "light"
     },
     "output_type": "display_data"
    }
   ],
   "source": [
    "from matplotlib import pyplot as plt\n",
    "sns.heatmap(data_train_num.corr(), linewidths=0.1, square=False, cmap=sns.color_palette(\"rocket_r\", as_cmap=True), linecolor='white', annot=True,\n",
    "            mask= np.triu(np.ones_like(data_train_num.corr(), dtype=np.bool_)))\n",
    "\n",
    "fig = plt.gcf()\n",
    "fig.set_size_inches(22, 15)\n",
    "\n"
   ]
  },
  {
   "cell_type": "code",
   "execution_count": 242,
   "metadata": {},
   "outputs": [],
   "source": [
    "list_of_uncorrelated_features = list((abs(data_train_num.corr().loc[abs(data_train_num.corr()[\"HOSPITAL_EXPIRE_FLAG\"])<0.05,\"HOSPITAL_EXPIRE_FLAG\"])).index)\n",
    "\n",
    "data_train_num = data_train_num.drop([feat for feat in list_of_uncorrelated_features if feat != \"icustay_id\"], axis = 1)\n",
    "data_test_num = data_test_num.drop([feat for feat in list_of_uncorrelated_features if feat != \"icustay_id\"], axis = 1)"
   ]
  },
  {
   "cell_type": "code",
   "execution_count": 243,
   "metadata": {},
   "outputs": [
    {
     "data": {
      "text/html": [
       "<div>\n",
       "<style scoped>\n",
       "    .dataframe tbody tr th:only-of-type {\n",
       "        vertical-align: middle;\n",
       "    }\n",
       "\n",
       "    .dataframe tbody tr th {\n",
       "        vertical-align: top;\n",
       "    }\n",
       "\n",
       "    .dataframe thead th {\n",
       "        text-align: right;\n",
       "    }\n",
       "</style>\n",
       "<table border=\"1\" class=\"dataframe\">\n",
       "  <thead>\n",
       "    <tr style=\"text-align: right;\">\n",
       "      <th></th>\n",
       "      <th>HOSPITAL_EXPIRE_FLAG</th>\n",
       "      <th>icustay_id</th>\n",
       "      <th>HeartRate_Max</th>\n",
       "      <th>HeartRate_Mean</th>\n",
       "      <th>SysBP_Min</th>\n",
       "      <th>SysBP_Mean</th>\n",
       "      <th>DiasBP_Min</th>\n",
       "      <th>DiasBP_Mean</th>\n",
       "      <th>MeanBP_Min</th>\n",
       "      <th>MeanBP_Mean</th>\n",
       "      <th>...</th>\n",
       "      <th>RespRate_Mean</th>\n",
       "      <th>TempC_Min</th>\n",
       "      <th>TempC_Mean</th>\n",
       "      <th>SpO2_Min</th>\n",
       "      <th>SpO2_Mean</th>\n",
       "      <th>Glucose_Min</th>\n",
       "      <th>Glucose_Max</th>\n",
       "      <th>Glucose_Mean</th>\n",
       "      <th>age</th>\n",
       "      <th>comorbidity_counts</th>\n",
       "    </tr>\n",
       "  </thead>\n",
       "  <tbody>\n",
       "    <tr>\n",
       "      <th>0</th>\n",
       "      <td>0</td>\n",
       "      <td>228357</td>\n",
       "      <td>145.0</td>\n",
       "      <td>121.043478</td>\n",
       "      <td>74.0</td>\n",
       "      <td>106.586957</td>\n",
       "      <td>42.0</td>\n",
       "      <td>61.173913</td>\n",
       "      <td>59.0</td>\n",
       "      <td>74.543478</td>\n",
       "      <td>...</td>\n",
       "      <td>22.347826</td>\n",
       "      <td>35.111111</td>\n",
       "      <td>36.080247</td>\n",
       "      <td>90.0</td>\n",
       "      <td>95.739130</td>\n",
       "      <td>111.0</td>\n",
       "      <td>230.0</td>\n",
       "      <td>160.777778</td>\n",
       "      <td>69.608219</td>\n",
       "      <td>17</td>\n",
       "    </tr>\n",
       "    <tr>\n",
       "      <th>1</th>\n",
       "      <td>0</td>\n",
       "      <td>221004</td>\n",
       "      <td>110.0</td>\n",
       "      <td>79.117647</td>\n",
       "      <td>89.0</td>\n",
       "      <td>106.733333</td>\n",
       "      <td>49.0</td>\n",
       "      <td>64.733333</td>\n",
       "      <td>58.0</td>\n",
       "      <td>74.800000</td>\n",
       "      <td>...</td>\n",
       "      <td>16.058824</td>\n",
       "      <td>36.333333</td>\n",
       "      <td>36.472222</td>\n",
       "      <td>98.0</td>\n",
       "      <td>99.058824</td>\n",
       "      <td>103.0</td>\n",
       "      <td>103.0</td>\n",
       "      <td>103.000000</td>\n",
       "      <td>42.101370</td>\n",
       "      <td>3</td>\n",
       "    </tr>\n",
       "    <tr>\n",
       "      <th>2</th>\n",
       "      <td>0</td>\n",
       "      <td>296315</td>\n",
       "      <td>98.0</td>\n",
       "      <td>91.689655</td>\n",
       "      <td>88.0</td>\n",
       "      <td>112.785714</td>\n",
       "      <td>45.0</td>\n",
       "      <td>56.821429</td>\n",
       "      <td>64.0</td>\n",
       "      <td>72.888889</td>\n",
       "      <td>...</td>\n",
       "      <td>15.900000</td>\n",
       "      <td>36.444444</td>\n",
       "      <td>36.666667</td>\n",
       "      <td>100.0</td>\n",
       "      <td>100.000000</td>\n",
       "      <td>132.0</td>\n",
       "      <td>346.0</td>\n",
       "      <td>217.636364</td>\n",
       "      <td>68.210959</td>\n",
       "      <td>14</td>\n",
       "    </tr>\n",
       "    <tr>\n",
       "      <th>3</th>\n",
       "      <td>0</td>\n",
       "      <td>245557</td>\n",
       "      <td>128.0</td>\n",
       "      <td>98.857143</td>\n",
       "      <td>84.0</td>\n",
       "      <td>106.972973</td>\n",
       "      <td>30.0</td>\n",
       "      <td>41.864865</td>\n",
       "      <td>48.0</td>\n",
       "      <td>62.783784</td>\n",
       "      <td>...</td>\n",
       "      <td>26.771429</td>\n",
       "      <td>36.333333</td>\n",
       "      <td>37.833333</td>\n",
       "      <td>78.0</td>\n",
       "      <td>95.085714</td>\n",
       "      <td>108.0</td>\n",
       "      <td>139.0</td>\n",
       "      <td>125.000000</td>\n",
       "      <td>74.961644</td>\n",
       "      <td>15</td>\n",
       "    </tr>\n",
       "    <tr>\n",
       "      <th>4</th>\n",
       "      <td>0</td>\n",
       "      <td>225281</td>\n",
       "      <td>NaN</td>\n",
       "      <td>NaN</td>\n",
       "      <td>NaN</td>\n",
       "      <td>NaN</td>\n",
       "      <td>NaN</td>\n",
       "      <td>NaN</td>\n",
       "      <td>NaN</td>\n",
       "      <td>NaN</td>\n",
       "      <td>...</td>\n",
       "      <td>NaN</td>\n",
       "      <td>NaN</td>\n",
       "      <td>NaN</td>\n",
       "      <td>NaN</td>\n",
       "      <td>NaN</td>\n",
       "      <td>97.0</td>\n",
       "      <td>137.0</td>\n",
       "      <td>113.000000</td>\n",
       "      <td>79.424658</td>\n",
       "      <td>16</td>\n",
       "    </tr>\n",
       "  </tbody>\n",
       "</table>\n",
       "<p>5 rows × 22 columns</p>\n",
       "</div>"
      ],
      "text/plain": [
       "   HOSPITAL_EXPIRE_FLAG  icustay_id  HeartRate_Max  HeartRate_Mean  SysBP_Min  \\\n",
       "0                     0      228357          145.0      121.043478       74.0   \n",
       "1                     0      221004          110.0       79.117647       89.0   \n",
       "2                     0      296315           98.0       91.689655       88.0   \n",
       "3                     0      245557          128.0       98.857143       84.0   \n",
       "4                     0      225281            NaN             NaN        NaN   \n",
       "\n",
       "   SysBP_Mean  DiasBP_Min  DiasBP_Mean  MeanBP_Min  MeanBP_Mean  ...  \\\n",
       "0  106.586957        42.0    61.173913        59.0    74.543478  ...   \n",
       "1  106.733333        49.0    64.733333        58.0    74.800000  ...   \n",
       "2  112.785714        45.0    56.821429        64.0    72.888889  ...   \n",
       "3  106.972973        30.0    41.864865        48.0    62.783784  ...   \n",
       "4         NaN         NaN          NaN         NaN          NaN  ...   \n",
       "\n",
       "   RespRate_Mean  TempC_Min  TempC_Mean  SpO2_Min   SpO2_Mean  Glucose_Min  \\\n",
       "0      22.347826  35.111111   36.080247      90.0   95.739130        111.0   \n",
       "1      16.058824  36.333333   36.472222      98.0   99.058824        103.0   \n",
       "2      15.900000  36.444444   36.666667     100.0  100.000000        132.0   \n",
       "3      26.771429  36.333333   37.833333      78.0   95.085714        108.0   \n",
       "4            NaN        NaN         NaN       NaN         NaN         97.0   \n",
       "\n",
       "   Glucose_Max  Glucose_Mean        age  comorbidity_counts  \n",
       "0        230.0    160.777778  69.608219                  17  \n",
       "1        103.0    103.000000  42.101370                   3  \n",
       "2        346.0    217.636364  68.210959                  14  \n",
       "3        139.0    125.000000  74.961644                  15  \n",
       "4        137.0    113.000000  79.424658                  16  \n",
       "\n",
       "[5 rows x 22 columns]"
      ]
     },
     "execution_count": 243,
     "metadata": {},
     "output_type": "execute_result"
    }
   ],
   "source": [
    "data_train_num.head()"
   ]
  },
  {
   "attachments": {},
   "cell_type": "markdown",
   "metadata": {},
   "source": [
    "### Missing values"
   ]
  },
  {
   "attachments": {},
   "cell_type": "markdown",
   "metadata": {},
   "source": [
    "Now we can process the missing values. What will be more restrictive will be the testing data. If we find that there are only some columns with NaNs in testing, we could think of dropping them. But as we will see, there are too many columns containing NaNs, which will force us to impute values if we want to make use of all the information available."
   ]
  },
  {
   "cell_type": "code",
   "execution_count": 244,
   "metadata": {},
   "outputs": [
    {
     "data": {
      "text/plain": [
       "19"
      ]
     },
     "execution_count": 244,
     "metadata": {},
     "output_type": "execute_result"
    }
   ],
   "source": [
    "#processing missing data. As we have missing data \n",
    "#counting number of columns with nans in test dataset\n",
    "(data_test_num.isna().sum() > 0).sum()"
   ]
  },
  {
   "attachments": {},
   "cell_type": "markdown",
   "metadata": {},
   "source": [
    "we can see that test data has almost all columns with nans, so we cannot drop that many columns. We need to impute the values. We will use KNN imputer with 1000 neighbors and distance as the weight."
   ]
  },
  {
   "cell_type": "code",
   "execution_count": 320,
   "metadata": {},
   "outputs": [],
   "source": [
    "\n",
    "y = data_train_num[\"HOSPITAL_EXPIRE_FLAG\"]\n",
    "X_num = data_train_num.drop(\"HOSPITAL_EXPIRE_FLAG\", axis = 1)"
   ]
  },
  {
   "attachments": {},
   "cell_type": "markdown",
   "metadata": {},
   "source": [
    "Now, to avoid ids creating problems when imputing, we need to separate them from the dataset"
   ]
  },
  {
   "cell_type": "code",
   "execution_count": 246,
   "metadata": {},
   "outputs": [],
   "source": [
    "#Separating ids\n",
    "train_ids = X_num[\"icustay_id\"].copy()\n",
    "X_train_num = X_num.copy().drop(\"icustay_id\",axis = 1)\n",
    "test_ids = data_test_num[\"icustay_id\"].copy()\n",
    "X_test_num = data_test_num.drop(\"icustay_id\",axis = 1)"
   ]
  },
  {
   "cell_type": "code",
   "execution_count": 247,
   "metadata": {},
   "outputs": [],
   "source": [
    "#we create and fit the iterative imputer\n",
    "imputer_num = KNNImputer(n_neighbors=1000, \n",
    "                    weights='distance')\n",
    "                    #add_indicator=False) maybe is interesting for future iterations\n",
    "\n",
    "imputer_num.fit(X_train_num)\n",
    "X_train_imp = imputer_num.transform(X_train_num)\n",
    "X_test_imp = imputer_num.transform(X_test_num)"
   ]
  },
  {
   "cell_type": "code",
   "execution_count": 248,
   "metadata": {},
   "outputs": [
    {
     "data": {
      "text/plain": [
       "0"
      ]
     },
     "execution_count": 248,
     "metadata": {},
     "output_type": "execute_result"
    }
   ],
   "source": [
    "#checking if train set has nans\n",
    "pd.DataFrame(data = X_train_imp, columns = X_train_num.columns).isna().sum().sum()"
   ]
  },
  {
   "cell_type": "code",
   "execution_count": 249,
   "metadata": {},
   "outputs": [
    {
     "data": {
      "text/plain": [
       "0"
      ]
     },
     "execution_count": 249,
     "metadata": {},
     "output_type": "execute_result"
    }
   ],
   "source": [
    "#checking if test set has nans\n",
    "pd.DataFrame(data = X_test_imp, columns = X_test_num.columns).isna().sum().sum()"
   ]
  },
  {
   "attachments": {},
   "cell_type": "markdown",
   "metadata": {},
   "source": [
    "### Standardizing"
   ]
  },
  {
   "attachments": {},
   "cell_type": "markdown",
   "metadata": {},
   "source": [
    "The final step for the numerical data is to standardize it. We will use RobustScaler, that is robust to ouliers"
   ]
  },
  {
   "cell_type": "code",
   "execution_count": 250,
   "metadata": {},
   "outputs": [],
   "source": [
    "#creating scaler and scaling the data\n",
    "scaler = RobustScaler()\n",
    "scaler.fit(X_test_imp)\n",
    "X_train_scaled = scaler.transform(X_train_imp)\n",
    "X_train_scaled = pd.DataFrame(data = X_train_scaled, columns=X_train_num.columns)\n",
    "X_train_scaled[\"icustay_id\"] = train_ids\n",
    "\n",
    "X_test_scaled = scaler.transform(X_test_imp)\n",
    "X_test_scaled = pd.DataFrame(data = X_test_scaled, columns= X_test_num.columns)\n",
    "X_test_scaled[\"icustay_id\"] = test_ids"
   ]
  },
  {
   "attachments": {},
   "cell_type": "markdown",
   "metadata": {},
   "source": [
    "## Categorical processing"
   ]
  },
  {
   "cell_type": "code",
   "execution_count": 251,
   "metadata": {},
   "outputs": [
    {
     "data": {
      "text/html": [
       "<div>\n",
       "<style scoped>\n",
       "    .dataframe tbody tr th:only-of-type {\n",
       "        vertical-align: middle;\n",
       "    }\n",
       "\n",
       "    .dataframe tbody tr th {\n",
       "        vertical-align: top;\n",
       "    }\n",
       "\n",
       "    .dataframe thead th {\n",
       "        text-align: right;\n",
       "    }\n",
       "</style>\n",
       "<table border=\"1\" class=\"dataframe\">\n",
       "  <thead>\n",
       "    <tr style=\"text-align: right;\">\n",
       "      <th></th>\n",
       "      <th>GENDER</th>\n",
       "      <th>ADMISSION_TYPE</th>\n",
       "      <th>INSURANCE</th>\n",
       "      <th>RELIGION</th>\n",
       "      <th>MARITAL_STATUS</th>\n",
       "      <th>ETHNICITY</th>\n",
       "      <th>DIAGNOSIS</th>\n",
       "      <th>ICD9_diagnosis</th>\n",
       "      <th>FIRST_CAREUNIT</th>\n",
       "      <th>icustay_id</th>\n",
       "    </tr>\n",
       "  </thead>\n",
       "  <tbody>\n",
       "    <tr>\n",
       "      <th>0</th>\n",
       "      <td>F</td>\n",
       "      <td>EMERGENCY</td>\n",
       "      <td>Medicare</td>\n",
       "      <td>PROTESTANT QUAKER</td>\n",
       "      <td>SINGLE</td>\n",
       "      <td>WHITE</td>\n",
       "      <td>GASTROINTESTINAL BLEED</td>\n",
       "      <td>5789</td>\n",
       "      <td>MICU</td>\n",
       "      <td>228357</td>\n",
       "    </tr>\n",
       "    <tr>\n",
       "      <th>1</th>\n",
       "      <td>F</td>\n",
       "      <td>EMERGENCY</td>\n",
       "      <td>Private</td>\n",
       "      <td>UNOBTAINABLE</td>\n",
       "      <td>MARRIED</td>\n",
       "      <td>WHITE</td>\n",
       "      <td>ESOPHAGEAL FOOD IMPACTION</td>\n",
       "      <td>53013</td>\n",
       "      <td>MICU</td>\n",
       "      <td>221004</td>\n",
       "    </tr>\n",
       "    <tr>\n",
       "      <th>2</th>\n",
       "      <td>F</td>\n",
       "      <td>EMERGENCY</td>\n",
       "      <td>Medicare</td>\n",
       "      <td>PROTESTANT QUAKER</td>\n",
       "      <td>SEPARATED</td>\n",
       "      <td>BLACK/AFRICAN AMERICAN</td>\n",
       "      <td>UPPER GI BLEED</td>\n",
       "      <td>56983</td>\n",
       "      <td>MICU</td>\n",
       "      <td>296315</td>\n",
       "    </tr>\n",
       "    <tr>\n",
       "      <th>3</th>\n",
       "      <td>F</td>\n",
       "      <td>ELECTIVE</td>\n",
       "      <td>Medicare</td>\n",
       "      <td>NOT SPECIFIED</td>\n",
       "      <td>WIDOWED</td>\n",
       "      <td>WHITE</td>\n",
       "      <td>HIATAL HERNIA/SDA</td>\n",
       "      <td>5533</td>\n",
       "      <td>SICU</td>\n",
       "      <td>245557</td>\n",
       "    </tr>\n",
       "    <tr>\n",
       "      <th>4</th>\n",
       "      <td>F</td>\n",
       "      <td>EMERGENCY</td>\n",
       "      <td>Medicare</td>\n",
       "      <td>JEWISH</td>\n",
       "      <td>WIDOWED</td>\n",
       "      <td>WHITE</td>\n",
       "      <td>ABDOMINAL PAIN</td>\n",
       "      <td>56211</td>\n",
       "      <td>TSICU</td>\n",
       "      <td>225281</td>\n",
       "    </tr>\n",
       "  </tbody>\n",
       "</table>\n",
       "</div>"
      ],
      "text/plain": [
       "  GENDER ADMISSION_TYPE INSURANCE           RELIGION MARITAL_STATUS  \\\n",
       "0      F      EMERGENCY  Medicare  PROTESTANT QUAKER         SINGLE   \n",
       "1      F      EMERGENCY   Private       UNOBTAINABLE        MARRIED   \n",
       "2      F      EMERGENCY  Medicare  PROTESTANT QUAKER      SEPARATED   \n",
       "3      F       ELECTIVE  Medicare      NOT SPECIFIED        WIDOWED   \n",
       "4      F      EMERGENCY  Medicare             JEWISH        WIDOWED   \n",
       "\n",
       "                ETHNICITY                  DIAGNOSIS ICD9_diagnosis  \\\n",
       "0                   WHITE     GASTROINTESTINAL BLEED           5789   \n",
       "1                   WHITE  ESOPHAGEAL FOOD IMPACTION          53013   \n",
       "2  BLACK/AFRICAN AMERICAN             UPPER GI BLEED          56983   \n",
       "3                   WHITE          HIATAL HERNIA/SDA           5533   \n",
       "4                   WHITE             ABDOMINAL PAIN          56211   \n",
       "\n",
       "  FIRST_CAREUNIT  icustay_id  \n",
       "0           MICU      228357  \n",
       "1           MICU      221004  \n",
       "2           MICU      296315  \n",
       "3           SICU      245557  \n",
       "4          TSICU      225281  "
      ]
     },
     "execution_count": 251,
     "metadata": {},
     "output_type": "execute_result"
    }
   ],
   "source": [
    "data_train_cat.head()"
   ]
  },
  {
   "attachments": {},
   "cell_type": "markdown",
   "metadata": {},
   "source": [
    "### Dealing with sparse categorical variables"
   ]
  },
  {
   "attachments": {},
   "cell_type": "markdown",
   "metadata": {},
   "source": [
    "As we can see, from all the categorical variables, DIAGNOSIS and ICD9_diagnosis are VERY sparse. We could also include ethnicity in this group. We need to find a way to encode them as categoricals that does not focus on one hot encoding technique. We will use target encoding, which allows us to encode each class inside each variable in terms of the probability of dying. We will use WoE(weight of evidence) encoder in particular."
   ]
  },
  {
   "cell_type": "code",
   "execution_count": 252,
   "metadata": {},
   "outputs": [
    {
     "data": {
      "text/plain": [
       "GENDER                2\n",
       "ADMISSION_TYPE        3\n",
       "INSURANCE             5\n",
       "RELIGION             17\n",
       "MARITAL_STATUS        7\n",
       "ETHNICITY            41\n",
       "DIAGNOSIS          6193\n",
       "ICD9_diagnosis     1853\n",
       "FIRST_CAREUNIT        5\n",
       "icustay_id        20885\n",
       "dtype: int64"
      ]
     },
     "execution_count": 252,
     "metadata": {},
     "output_type": "execute_result"
    }
   ],
   "source": [
    "data_train_cat.nunique()"
   ]
  },
  {
   "cell_type": "code",
   "execution_count": 256,
   "metadata": {},
   "outputs": [],
   "source": [
    "#We could target encode, but I have found a method (WoE) that follows the same approach but with a different approximation.\n",
    "woe_encode_columns = [\"DIAGNOSIS\",\"ICD9_diagnosis\", \"ETHNICITY\"]\n",
    "\n",
    "woe = ce.woe.WOEEncoder(cols = woe_encode_columns)\n",
    "\n",
    "# Fit\n",
    "woe.fit(data_train_cat, y)\n",
    "\n",
    "# Transform\n",
    "encoded_train_cat = woe.transform(data_train_cat)\n",
    "encoded_test_cat = woe.transform(data_test_cat)\n"
   ]
  },
  {
   "attachments": {},
   "cell_type": "markdown",
   "metadata": {},
   "source": [
    "The other variables will be one hot encoded, as they do not add to many dimensions to the dataset. But only GENDER, ADMISSION_TYPE, FIRST_CAREUNIT will be encoded. INSURANCE, RELIGION, MARITAL_STATUS will be dropped as it has been considered that they do not add any information regarding the target to predict"
   ]
  },
  {
   "cell_type": "code",
   "execution_count": 257,
   "metadata": {},
   "outputs": [],
   "source": [
    "from category_encoders.one_hot import OneHotEncoder\n",
    "#we are not going to one hot encode all vars. The ones not one hot encoded will be dropped\n",
    "one_hot_encode_vars = [\"GENDER\", \"ADMISSION_TYPE\", \"FIRST_CAREUNIT\"]\n",
    "drop_columns = [\"INSURANCE\", \"RELIGION\", \"MARITAL_STATUS\"]\n",
    "OneHotEncoder = OneHotEncoder(cols=one_hot_encode_vars, \n",
    "              handle_missing='value', \n",
    "              handle_unknown='value')\n",
    "\n",
    "OneHotEncoder.fit(encoded_train_cat)\n",
    "\n",
    "encoded_train_cat = OneHotEncoder.transform(encoded_train_cat)\n",
    "encoded_train_cat = encoded_train_cat.drop(drop_columns, axis = 1)\n",
    "\n",
    "encoded_test_cat = OneHotEncoder.transform(encoded_test_cat)\n",
    "encoded_test_cat = encoded_test_cat.drop(drop_columns, axis = 1)"
   ]
  },
  {
   "cell_type": "code",
   "execution_count": 258,
   "metadata": {},
   "outputs": [
    {
     "data": {
      "text/html": [
       "<div>\n",
       "<style scoped>\n",
       "    .dataframe tbody tr th:only-of-type {\n",
       "        vertical-align: middle;\n",
       "    }\n",
       "\n",
       "    .dataframe tbody tr th {\n",
       "        vertical-align: top;\n",
       "    }\n",
       "\n",
       "    .dataframe thead th {\n",
       "        text-align: right;\n",
       "    }\n",
       "</style>\n",
       "<table border=\"1\" class=\"dataframe\">\n",
       "  <thead>\n",
       "    <tr style=\"text-align: right;\">\n",
       "      <th></th>\n",
       "      <th>GENDER_1</th>\n",
       "      <th>GENDER_2</th>\n",
       "      <th>ADMISSION_TYPE_1</th>\n",
       "      <th>ADMISSION_TYPE_2</th>\n",
       "      <th>ADMISSION_TYPE_3</th>\n",
       "      <th>ETHNICITY</th>\n",
       "      <th>DIAGNOSIS</th>\n",
       "      <th>ICD9_diagnosis</th>\n",
       "      <th>FIRST_CAREUNIT_1</th>\n",
       "      <th>FIRST_CAREUNIT_2</th>\n",
       "      <th>FIRST_CAREUNIT_3</th>\n",
       "      <th>FIRST_CAREUNIT_4</th>\n",
       "      <th>FIRST_CAREUNIT_5</th>\n",
       "      <th>icustay_id</th>\n",
       "    </tr>\n",
       "  </thead>\n",
       "  <tbody>\n",
       "    <tr>\n",
       "      <th>0</th>\n",
       "      <td>1</td>\n",
       "      <td>0</td>\n",
       "      <td>1</td>\n",
       "      <td>0</td>\n",
       "      <td>0</td>\n",
       "      <td>-0.021504</td>\n",
       "      <td>-0.434535</td>\n",
       "      <td>-0.113517</td>\n",
       "      <td>1</td>\n",
       "      <td>0</td>\n",
       "      <td>0</td>\n",
       "      <td>0</td>\n",
       "      <td>0</td>\n",
       "      <td>228357</td>\n",
       "    </tr>\n",
       "    <tr>\n",
       "      <th>1</th>\n",
       "      <td>1</td>\n",
       "      <td>0</td>\n",
       "      <td>1</td>\n",
       "      <td>0</td>\n",
       "      <td>0</td>\n",
       "      <td>-0.021504</td>\n",
       "      <td>0.968288</td>\n",
       "      <td>0.000000</td>\n",
       "      <td>1</td>\n",
       "      <td>0</td>\n",
       "      <td>0</td>\n",
       "      <td>0</td>\n",
       "      <td>0</td>\n",
       "      <td>221004</td>\n",
       "    </tr>\n",
       "    <tr>\n",
       "      <th>2</th>\n",
       "      <td>1</td>\n",
       "      <td>0</td>\n",
       "      <td>1</td>\n",
       "      <td>0</td>\n",
       "      <td>0</td>\n",
       "      <td>-0.216931</td>\n",
       "      <td>-0.229785</td>\n",
       "      <td>0.888246</td>\n",
       "      <td>1</td>\n",
       "      <td>0</td>\n",
       "      <td>0</td>\n",
       "      <td>0</td>\n",
       "      <td>0</td>\n",
       "      <td>296315</td>\n",
       "    </tr>\n",
       "    <tr>\n",
       "      <th>3</th>\n",
       "      <td>1</td>\n",
       "      <td>0</td>\n",
       "      <td>0</td>\n",
       "      <td>1</td>\n",
       "      <td>0</td>\n",
       "      <td>-0.021504</td>\n",
       "      <td>0.457463</td>\n",
       "      <td>-0.572157</td>\n",
       "      <td>0</td>\n",
       "      <td>1</td>\n",
       "      <td>0</td>\n",
       "      <td>0</td>\n",
       "      <td>0</td>\n",
       "      <td>245557</td>\n",
       "    </tr>\n",
       "    <tr>\n",
       "      <th>4</th>\n",
       "      <td>1</td>\n",
       "      <td>0</td>\n",
       "      <td>1</td>\n",
       "      <td>0</td>\n",
       "      <td>0</td>\n",
       "      <td>-0.021504</td>\n",
       "      <td>0.321661</td>\n",
       "      <td>-1.131773</td>\n",
       "      <td>0</td>\n",
       "      <td>0</td>\n",
       "      <td>1</td>\n",
       "      <td>0</td>\n",
       "      <td>0</td>\n",
       "      <td>225281</td>\n",
       "    </tr>\n",
       "    <tr>\n",
       "      <th>...</th>\n",
       "      <td>...</td>\n",
       "      <td>...</td>\n",
       "      <td>...</td>\n",
       "      <td>...</td>\n",
       "      <td>...</td>\n",
       "      <td>...</td>\n",
       "      <td>...</td>\n",
       "      <td>...</td>\n",
       "      <td>...</td>\n",
       "      <td>...</td>\n",
       "      <td>...</td>\n",
       "      <td>...</td>\n",
       "      <td>...</td>\n",
       "      <td>...</td>\n",
       "    </tr>\n",
       "    <tr>\n",
       "      <th>20880</th>\n",
       "      <td>0</td>\n",
       "      <td>1</td>\n",
       "      <td>1</td>\n",
       "      <td>0</td>\n",
       "      <td>0</td>\n",
       "      <td>-0.021504</td>\n",
       "      <td>0.123500</td>\n",
       "      <td>0.680606</td>\n",
       "      <td>1</td>\n",
       "      <td>0</td>\n",
       "      <td>0</td>\n",
       "      <td>0</td>\n",
       "      <td>0</td>\n",
       "      <td>244530</td>\n",
       "    </tr>\n",
       "    <tr>\n",
       "      <th>20881</th>\n",
       "      <td>0</td>\n",
       "      <td>1</td>\n",
       "      <td>1</td>\n",
       "      <td>0</td>\n",
       "      <td>0</td>\n",
       "      <td>-0.360848</td>\n",
       "      <td>-0.330995</td>\n",
       "      <td>-0.498049</td>\n",
       "      <td>0</td>\n",
       "      <td>1</td>\n",
       "      <td>0</td>\n",
       "      <td>0</td>\n",
       "      <td>0</td>\n",
       "      <td>216116</td>\n",
       "    </tr>\n",
       "    <tr>\n",
       "      <th>20882</th>\n",
       "      <td>1</td>\n",
       "      <td>0</td>\n",
       "      <td>1</td>\n",
       "      <td>0</td>\n",
       "      <td>0</td>\n",
       "      <td>-0.216931</td>\n",
       "      <td>-0.073166</td>\n",
       "      <td>0.000000</td>\n",
       "      <td>1</td>\n",
       "      <td>0</td>\n",
       "      <td>0</td>\n",
       "      <td>0</td>\n",
       "      <td>0</td>\n",
       "      <td>274507</td>\n",
       "    </tr>\n",
       "    <tr>\n",
       "      <th>20883</th>\n",
       "      <td>1</td>\n",
       "      <td>0</td>\n",
       "      <td>1</td>\n",
       "      <td>0</td>\n",
       "      <td>0</td>\n",
       "      <td>-0.021504</td>\n",
       "      <td>0.000000</td>\n",
       "      <td>-2.528219</td>\n",
       "      <td>0</td>\n",
       "      <td>0</td>\n",
       "      <td>0</td>\n",
       "      <td>0</td>\n",
       "      <td>1</td>\n",
       "      <td>225930</td>\n",
       "    </tr>\n",
       "    <tr>\n",
       "      <th>20884</th>\n",
       "      <td>1</td>\n",
       "      <td>0</td>\n",
       "      <td>0</td>\n",
       "      <td>1</td>\n",
       "      <td>0</td>\n",
       "      <td>-0.021504</td>\n",
       "      <td>0.000000</td>\n",
       "      <td>-0.235685</td>\n",
       "      <td>1</td>\n",
       "      <td>0</td>\n",
       "      <td>0</td>\n",
       "      <td>0</td>\n",
       "      <td>0</td>\n",
       "      <td>258400</td>\n",
       "    </tr>\n",
       "  </tbody>\n",
       "</table>\n",
       "<p>20885 rows × 14 columns</p>\n",
       "</div>"
      ],
      "text/plain": [
       "       GENDER_1  GENDER_2  ADMISSION_TYPE_1  ADMISSION_TYPE_2  \\\n",
       "0             1         0                 1                 0   \n",
       "1             1         0                 1                 0   \n",
       "2             1         0                 1                 0   \n",
       "3             1         0                 0                 1   \n",
       "4             1         0                 1                 0   \n",
       "...         ...       ...               ...               ...   \n",
       "20880         0         1                 1                 0   \n",
       "20881         0         1                 1                 0   \n",
       "20882         1         0                 1                 0   \n",
       "20883         1         0                 1                 0   \n",
       "20884         1         0                 0                 1   \n",
       "\n",
       "       ADMISSION_TYPE_3  ETHNICITY  DIAGNOSIS  ICD9_diagnosis  \\\n",
       "0                     0  -0.021504  -0.434535       -0.113517   \n",
       "1                     0  -0.021504   0.968288        0.000000   \n",
       "2                     0  -0.216931  -0.229785        0.888246   \n",
       "3                     0  -0.021504   0.457463       -0.572157   \n",
       "4                     0  -0.021504   0.321661       -1.131773   \n",
       "...                 ...        ...        ...             ...   \n",
       "20880                 0  -0.021504   0.123500        0.680606   \n",
       "20881                 0  -0.360848  -0.330995       -0.498049   \n",
       "20882                 0  -0.216931  -0.073166        0.000000   \n",
       "20883                 0  -0.021504   0.000000       -2.528219   \n",
       "20884                 0  -0.021504   0.000000       -0.235685   \n",
       "\n",
       "       FIRST_CAREUNIT_1  FIRST_CAREUNIT_2  FIRST_CAREUNIT_3  FIRST_CAREUNIT_4  \\\n",
       "0                     1                 0                 0                 0   \n",
       "1                     1                 0                 0                 0   \n",
       "2                     1                 0                 0                 0   \n",
       "3                     0                 1                 0                 0   \n",
       "4                     0                 0                 1                 0   \n",
       "...                 ...               ...               ...               ...   \n",
       "20880                 1                 0                 0                 0   \n",
       "20881                 0                 1                 0                 0   \n",
       "20882                 1                 0                 0                 0   \n",
       "20883                 0                 0                 0                 0   \n",
       "20884                 1                 0                 0                 0   \n",
       "\n",
       "       FIRST_CAREUNIT_5  icustay_id  \n",
       "0                     0      228357  \n",
       "1                     0      221004  \n",
       "2                     0      296315  \n",
       "3                     0      245557  \n",
       "4                     0      225281  \n",
       "...                 ...         ...  \n",
       "20880                 0      244530  \n",
       "20881                 0      216116  \n",
       "20882                 0      274507  \n",
       "20883                 1      225930  \n",
       "20884                 0      258400  \n",
       "\n",
       "[20885 rows x 14 columns]"
      ]
     },
     "execution_count": 258,
     "metadata": {},
     "output_type": "execute_result"
    }
   ],
   "source": [
    "encoded_train_cat"
   ]
  },
  {
   "attachments": {},
   "cell_type": "markdown",
   "metadata": {},
   "source": [
    "### Putting everything together, over-sampling"
   ]
  },
  {
   "attachments": {},
   "cell_type": "markdown",
   "metadata": {},
   "source": [
    "Finally, we will merge both datasets (categorical and numerical) into a final one. Then, only for KNN, we will over-sample positive cases, as they are only the 10% of the dataset."
   ]
  },
  {
   "cell_type": "code",
   "execution_count": 321,
   "metadata": {},
   "outputs": [],
   "source": [
    "#Put everything together\n",
    "data_train_final = pd.merge(encoded_train_cat, X_train_scaled, right_on = \"icustay_id\", left_on=\"icustay_id\", validate=\"one_to_one\")\n",
    "data_train_final = data_train_final.drop(\"icustay_id\", axis = 1)\n",
    "\n",
    "data_test_final = pd.merge(encoded_test_cat, X_test_scaled, right_on = \"icustay_id\", left_on=\"icustay_id\", validate=\"one_to_one\")\n",
    "data_test_final = data_test_final.drop(\"icustay_id\", axis = 1)"
   ]
  },
  {
   "cell_type": "code",
   "execution_count": 260,
   "metadata": {},
   "outputs": [
    {
     "name": "stdout",
     "output_type": "stream",
     "text": [
      "GENDER\n",
      "0\n",
      "1\n",
      "2\n",
      "3\n",
      "4\n",
      "5\n",
      "6\n",
      "7\n",
      "8\n",
      "9\n",
      "10\n",
      "11\n",
      "12\n",
      "13\n",
      "14\n",
      "15\n",
      "16\n",
      "17\n",
      "18\n",
      "19\n",
      "20\n",
      "21\n",
      "22\n",
      "23\n",
      "24\n",
      "25\n",
      "26\n",
      "27\n",
      "28\n",
      "29\n",
      "30\n",
      "31\n",
      "32\n",
      "ADMISSION_TYPE\n",
      "0\n",
      "1\n",
      "2\n",
      "3\n",
      "4\n",
      "5\n",
      "6\n",
      "7\n",
      "8\n",
      "9\n",
      "10\n",
      "11\n",
      "12\n",
      "13\n",
      "14\n",
      "15\n",
      "16\n",
      "17\n",
      "18\n",
      "19\n",
      "20\n",
      "21\n",
      "22\n",
      "23\n",
      "24\n",
      "25\n",
      "26\n",
      "27\n",
      "28\n",
      "29\n",
      "30\n",
      "31\n",
      "32\n",
      "FIRST_CAREUNIT\n",
      "0\n",
      "1\n",
      "2\n",
      "3\n",
      "4\n",
      "5\n",
      "6\n",
      "7\n",
      "8\n",
      "9\n",
      "10\n",
      "11\n",
      "12\n",
      "13\n",
      "14\n",
      "15\n",
      "16\n",
      "17\n",
      "18\n",
      "19\n",
      "20\n",
      "21\n",
      "22\n",
      "23\n",
      "24\n",
      "25\n",
      "26\n",
      "27\n",
      "28\n",
      "29\n",
      "30\n",
      "31\n",
      "32\n"
     ]
    },
    {
     "data": {
      "text/plain": [
       "Index(['GENDER_1', 'GENDER_2', 'ADMISSION_TYPE_1', 'ADMISSION_TYPE_2',\n",
       "       'ADMISSION_TYPE_3', 'FIRST_CAREUNIT_1', 'FIRST_CAREUNIT_2',\n",
       "       'FIRST_CAREUNIT_3', 'FIRST_CAREUNIT_4', 'FIRST_CAREUNIT_5'],\n",
       "      dtype='object')"
      ]
     },
     "execution_count": 260,
     "metadata": {},
     "output_type": "execute_result"
    }
   ],
   "source": [
    "#code to find all categorical columns in the final datasets\n",
    "columns = data_train_final.columns\n",
    "cat_columns = one_hot_encode_vars\n",
    "\n",
    "indices_cat = np.zeros(len(columns))\n",
    "\n",
    "for column in cat_columns:\n",
    "    print(column)\n",
    "    for i in range(len(columns)):\n",
    "        if column in columns[i]:\n",
    "            indices_cat[i] += 1\n",
    "\n",
    "indices_cat = indices_cat != 0\n",
    "columns[indices_cat]\n"
   ]
  },
  {
   "cell_type": "code",
   "execution_count": 278,
   "metadata": {},
   "outputs": [],
   "source": [
    "#we oversample to compensate the imbalanced data\n",
    "from imblearn.over_sampling import SMOTENC\n",
    "sampler = SMOTENC(categorical_features=indices_cat, random_state=SEED)\n",
    "X_res, y_res = sampler.fit_resample(data_train_final, y)"
   ]
  },
  {
   "attachments": {},
   "cell_type": "markdown",
   "metadata": {},
   "source": [
    "## KNN training"
   ]
  },
  {
   "attachments": {},
   "cell_type": "markdown",
   "metadata": {},
   "source": [
    "Finally we train the model"
   ]
  },
  {
   "cell_type": "code",
   "execution_count": 281,
   "metadata": {},
   "outputs": [
    {
     "name": "stdout",
     "output_type": "stream",
     "text": [
      "Fitting 2 folds for each of 8 candidates, totalling 16 fits\n",
      "[CV] END .....................n_neighbors=5, weights=uniform; total time=   0.7s\n",
      "[CV] END .....................n_neighbors=5, weights=uniform; total time=   0.7s\n",
      "[CV] END ....................n_neighbors=5, weights=distance; total time=   0.7s\n",
      "[CV] END ....................n_neighbors=5, weights=distance; total time=   0.7s\n",
      "[CV] END ....................n_neighbors=10, weights=uniform; total time=   0.6s\n",
      "[CV] END ....................n_neighbors=10, weights=uniform; total time=   0.6s\n",
      "[CV] END ...................n_neighbors=10, weights=distance; total time=   0.7s\n",
      "[CV] END ...................n_neighbors=10, weights=distance; total time=   0.6s\n",
      "[CV] END ....................n_neighbors=15, weights=uniform; total time=   0.6s\n",
      "[CV] END ....................n_neighbors=15, weights=uniform; total time=   0.7s\n",
      "[CV] END ...................n_neighbors=15, weights=distance; total time=   0.7s\n",
      "[CV] END ...................n_neighbors=15, weights=distance; total time=   0.6s\n",
      "[CV] END ....................n_neighbors=20, weights=uniform; total time=   0.6s\n",
      "[CV] END ....................n_neighbors=20, weights=uniform; total time=   0.6s\n",
      "[CV] END ...................n_neighbors=20, weights=distance; total time=   0.7s\n",
      "[CV] END ...................n_neighbors=20, weights=distance; total time=   0.6s\n"
     ]
    },
    {
     "data": {
      "text/html": [
       "<style>#sk-container-id-21 {color: black;background-color: white;}#sk-container-id-21 pre{padding: 0;}#sk-container-id-21 div.sk-toggleable {background-color: white;}#sk-container-id-21 label.sk-toggleable__label {cursor: pointer;display: block;width: 100%;margin-bottom: 0;padding: 0.3em;box-sizing: border-box;text-align: center;}#sk-container-id-21 label.sk-toggleable__label-arrow:before {content: \"▸\";float: left;margin-right: 0.25em;color: #696969;}#sk-container-id-21 label.sk-toggleable__label-arrow:hover:before {color: black;}#sk-container-id-21 div.sk-estimator:hover label.sk-toggleable__label-arrow:before {color: black;}#sk-container-id-21 div.sk-toggleable__content {max-height: 0;max-width: 0;overflow: hidden;text-align: left;background-color: #f0f8ff;}#sk-container-id-21 div.sk-toggleable__content pre {margin: 0.2em;color: black;border-radius: 0.25em;background-color: #f0f8ff;}#sk-container-id-21 input.sk-toggleable__control:checked~div.sk-toggleable__content {max-height: 200px;max-width: 100%;overflow: auto;}#sk-container-id-21 input.sk-toggleable__control:checked~label.sk-toggleable__label-arrow:before {content: \"▾\";}#sk-container-id-21 div.sk-estimator input.sk-toggleable__control:checked~label.sk-toggleable__label {background-color: #d4ebff;}#sk-container-id-21 div.sk-label input.sk-toggleable__control:checked~label.sk-toggleable__label {background-color: #d4ebff;}#sk-container-id-21 input.sk-hidden--visually {border: 0;clip: rect(1px 1px 1px 1px);clip: rect(1px, 1px, 1px, 1px);height: 1px;margin: -1px;overflow: hidden;padding: 0;position: absolute;width: 1px;}#sk-container-id-21 div.sk-estimator {font-family: monospace;background-color: #f0f8ff;border: 1px dotted black;border-radius: 0.25em;box-sizing: border-box;margin-bottom: 0.5em;}#sk-container-id-21 div.sk-estimator:hover {background-color: #d4ebff;}#sk-container-id-21 div.sk-parallel-item::after {content: \"\";width: 100%;border-bottom: 1px solid gray;flex-grow: 1;}#sk-container-id-21 div.sk-label:hover label.sk-toggleable__label {background-color: #d4ebff;}#sk-container-id-21 div.sk-serial::before {content: \"\";position: absolute;border-left: 1px solid gray;box-sizing: border-box;top: 0;bottom: 0;left: 50%;z-index: 0;}#sk-container-id-21 div.sk-serial {display: flex;flex-direction: column;align-items: center;background-color: white;padding-right: 0.2em;padding-left: 0.2em;position: relative;}#sk-container-id-21 div.sk-item {position: relative;z-index: 1;}#sk-container-id-21 div.sk-parallel {display: flex;align-items: stretch;justify-content: center;background-color: white;position: relative;}#sk-container-id-21 div.sk-item::before, #sk-container-id-21 div.sk-parallel-item::before {content: \"\";position: absolute;border-left: 1px solid gray;box-sizing: border-box;top: 0;bottom: 0;left: 50%;z-index: -1;}#sk-container-id-21 div.sk-parallel-item {display: flex;flex-direction: column;z-index: 1;position: relative;background-color: white;}#sk-container-id-21 div.sk-parallel-item:first-child::after {align-self: flex-end;width: 50%;}#sk-container-id-21 div.sk-parallel-item:last-child::after {align-self: flex-start;width: 50%;}#sk-container-id-21 div.sk-parallel-item:only-child::after {width: 0;}#sk-container-id-21 div.sk-dashed-wrapped {border: 1px dashed gray;margin: 0 0.4em 0.5em 0.4em;box-sizing: border-box;padding-bottom: 0.4em;background-color: white;}#sk-container-id-21 div.sk-label label {font-family: monospace;font-weight: bold;display: inline-block;line-height: 1.2em;}#sk-container-id-21 div.sk-label-container {text-align: center;}#sk-container-id-21 div.sk-container {/* jupyter's `normalize.less` sets `[hidden] { display: none; }` but bootstrap.min.css set `[hidden] { display: none !important; }` so we also need the `!important` here to be able to override the default hidden behavior on the sphinx rendered scikit-learn.org. See: https://github.com/scikit-learn/scikit-learn/issues/21755 */display: inline-block !important;position: relative;}#sk-container-id-21 div.sk-text-repr-fallback {display: none;}</style><div id=\"sk-container-id-21\" class=\"sk-top-container\"><div class=\"sk-text-repr-fallback\"><pre>GridSearchCV(cv=2, estimator=KNeighborsClassifier(algorithm=&#x27;brute&#x27;, n_jobs=3),\n",
       "             n_jobs=1,\n",
       "             param_grid={&#x27;n_neighbors&#x27;: [5, 10, 15, 20],\n",
       "                         &#x27;weights&#x27;: [&#x27;uniform&#x27;, &#x27;distance&#x27;]},\n",
       "             return_train_score=True, scoring=&#x27;roc_auc&#x27;, verbose=2)</pre><b>In a Jupyter environment, please rerun this cell to show the HTML representation or trust the notebook. <br />On GitHub, the HTML representation is unable to render, please try loading this page with nbviewer.org.</b></div><div class=\"sk-container\" hidden><div class=\"sk-item sk-dashed-wrapped\"><div class=\"sk-label-container\"><div class=\"sk-label sk-toggleable\"><input class=\"sk-toggleable__control sk-hidden--visually\" id=\"sk-estimator-id-59\" type=\"checkbox\" ><label for=\"sk-estimator-id-59\" class=\"sk-toggleable__label sk-toggleable__label-arrow\">GridSearchCV</label><div class=\"sk-toggleable__content\"><pre>GridSearchCV(cv=2, estimator=KNeighborsClassifier(algorithm=&#x27;brute&#x27;, n_jobs=3),\n",
       "             n_jobs=1,\n",
       "             param_grid={&#x27;n_neighbors&#x27;: [5, 10, 15, 20],\n",
       "                         &#x27;weights&#x27;: [&#x27;uniform&#x27;, &#x27;distance&#x27;]},\n",
       "             return_train_score=True, scoring=&#x27;roc_auc&#x27;, verbose=2)</pre></div></div></div><div class=\"sk-parallel\"><div class=\"sk-parallel-item\"><div class=\"sk-item\"><div class=\"sk-label-container\"><div class=\"sk-label sk-toggleable\"><input class=\"sk-toggleable__control sk-hidden--visually\" id=\"sk-estimator-id-60\" type=\"checkbox\" ><label for=\"sk-estimator-id-60\" class=\"sk-toggleable__label sk-toggleable__label-arrow\">estimator: KNeighborsClassifier</label><div class=\"sk-toggleable__content\"><pre>KNeighborsClassifier(algorithm=&#x27;brute&#x27;, n_jobs=3)</pre></div></div></div><div class=\"sk-serial\"><div class=\"sk-item\"><div class=\"sk-estimator sk-toggleable\"><input class=\"sk-toggleable__control sk-hidden--visually\" id=\"sk-estimator-id-61\" type=\"checkbox\" ><label for=\"sk-estimator-id-61\" class=\"sk-toggleable__label sk-toggleable__label-arrow\">KNeighborsClassifier</label><div class=\"sk-toggleable__content\"><pre>KNeighborsClassifier(algorithm=&#x27;brute&#x27;, n_jobs=3)</pre></div></div></div></div></div></div></div></div></div></div>"
      ],
      "text/plain": [
       "GridSearchCV(cv=2, estimator=KNeighborsClassifier(algorithm='brute', n_jobs=3),\n",
       "             n_jobs=1,\n",
       "             param_grid={'n_neighbors': [5, 10, 15, 20],\n",
       "                         'weights': ['uniform', 'distance']},\n",
       "             return_train_score=True, scoring='roc_auc', verbose=2)"
      ]
     },
     "execution_count": 281,
     "metadata": {},
     "output_type": "execute_result"
    }
   ],
   "source": [
    "#creating and fitting the model with grid search to optimize hyperparameters\n",
    "\"\"\"param_dist = {\n",
    "    \"n_neighbors\": [155,160,165,170],\n",
    "    \"weights\": [\"uniform\", \"distance\"],\n",
    "}\"\"\"\n",
    "param_dist = {\n",
    "    \"n_neighbors\": [5,10,15,20],\n",
    "    \"weights\": [\"uniform\", \"distance\"],\n",
    "}\n",
    "model = KNeighborsClassifier(algorithm='brute',metric='minkowski', n_jobs=3)\n",
    "\n",
    "cv = GridSearchCV(model, param_dist, scoring=\"roc_auc\", n_jobs=1, cv=2, verbose=2, return_train_score=True)\n",
    "cv.fit(X_res, y_res)"
   ]
  },
  {
   "cell_type": "code",
   "execution_count": 282,
   "metadata": {},
   "outputs": [
    {
     "name": "stdout",
     "output_type": "stream",
     "text": [
      "{'n_neighbors': 10, 'weights': 'distance'}\n",
      "0.9682867097467909\n"
     ]
    }
   ],
   "source": [
    "print(cv.best_params_)\n",
    "print(cv.best_score_)"
   ]
  },
  {
   "cell_type": "code",
   "execution_count": 274,
   "metadata": {},
   "outputs": [
    {
     "data": {
      "text/plain": [
       "5221.0"
      ]
     },
     "execution_count": 274,
     "metadata": {},
     "output_type": "execute_result"
    }
   ],
   "source": [
    "y_pred = cv.predict_proba(data_test_final)\n"
   ]
  },
  {
   "cell_type": "code",
   "execution_count": 275,
   "metadata": {},
   "outputs": [
    {
     "data": {
      "text/plain": [
       "5221"
      ]
     },
     "execution_count": 275,
     "metadata": {},
     "output_type": "execute_result"
    }
   ],
   "source": [
    "#ensuring the y_pred is correct. It needs to output the size of the testing dataset\n",
    "print(y_pred.sum().sum())\n",
    "print(len(y_pred))"
   ]
  },
  {
   "cell_type": "code",
   "execution_count": 283,
   "metadata": {
    "id": "IjqfyQLXpM8V"
   },
   "outputs": [],
   "source": [
    "# Produce .csv for kaggle testing \n",
    "test_predictions_submit = pd.DataFrame({\"icustay_id\": data_test[\"icustay_id\"], \"HOSPITAL_EXPIRE_FLAG\": y_pred[:, 1]})\n",
    "test_predictions_submit.to_csv(\"test_predictions_submit_KNN.csv\", index = False)"
   ]
  },
  {
   "attachments": {},
   "cell_type": "markdown",
   "metadata": {},
   "source": [
    "# SVM section"
   ]
  },
  {
   "attachments": {},
   "cell_type": "markdown",
   "metadata": {},
   "source": [
    "### Dimensionality reduction"
   ]
  },
  {
   "attachments": {},
   "cell_type": "markdown",
   "metadata": {},
   "source": [
    "As SVM can be very expensive to train, it is interesting to analyze the possibility of dimensionality reduction to compress as much as possible the dataset. For this reason we will implement IncrementalPCA. We will also get a sample of the dataset to speed up the hyper parameter tunning phase. We will get a 20% of the data, which will be enough to get a good estimation of the parameters."
   ]
  },
  {
   "cell_type": "code",
   "execution_count": 329,
   "metadata": {},
   "outputs": [],
   "source": [
    "#randomly selecting a subsample of the data to optimize hyperparameters\n",
    "data_train_final_svm = data_train_final.copy()\n",
    "y_svm = y.copy()\n",
    "data_train_final_svm[\"target\"] = y_svm.copy()\n",
    "data_train_final_svm = data_train_final_svm.sample(n = 4000)\n",
    "\n",
    "y_svm = data_train_final_svm[\"target\"]\n",
    "data_train_final_svm = data_train_final_svm.drop(\"target\", axis = 1)"
   ]
  },
  {
   "attachments": {},
   "cell_type": "markdown",
   "metadata": {},
   "source": [
    "We apply dimensionality reduction to speed up SVM training"
   ]
  },
  {
   "cell_type": "code",
   "execution_count": 330,
   "metadata": {},
   "outputs": [],
   "source": [
    "from sklearn.decomposition import IncrementalPCA\n",
    "\n",
    "PCA = IncrementalPCA()\n",
    "PCA.fit(data_train_final_svm)\n",
    "reduced_data_train_final_svm = PCA.transform(data_train_final_svm)\n",
    "reduced_data_test_final = PCA.transform(data_test_final)"
   ]
  },
  {
   "cell_type": "code",
   "execution_count": 331,
   "metadata": {},
   "outputs": [
    {
     "data": {
      "text/plain": [
       "(4000, 33)"
      ]
     },
     "execution_count": 331,
     "metadata": {},
     "output_type": "execute_result"
    }
   ],
   "source": [
    "reduced_data_train_final_svm.shape"
   ]
  },
  {
   "cell_type": "code",
   "execution_count": 332,
   "metadata": {},
   "outputs": [
    {
     "data": {
      "text/plain": [
       "(4000, 33)"
      ]
     },
     "execution_count": 332,
     "metadata": {},
     "output_type": "execute_result"
    }
   ],
   "source": [
    "data_train_final_svm.shape"
   ]
  },
  {
   "attachments": {},
   "cell_type": "markdown",
   "metadata": {},
   "source": [
    "We observe that there is no dimensionality reduction, meaning that the data cannot be further compressed without lossing information"
   ]
  },
  {
   "attachments": {},
   "cell_type": "markdown",
   "metadata": {},
   "source": [
    "### Model training"
   ]
  },
  {
   "attachments": {},
   "cell_type": "markdown",
   "metadata": {},
   "source": [
    "Now we train the model with GridSearchCV to obtain the best hyper parameters combination using the sample of the dataset. We will use the argument class_weight='balanced' to ensure that the model takes into account class imbalance."
   ]
  },
  {
   "cell_type": "code",
   "execution_count": 362,
   "metadata": {},
   "outputs": [
    {
     "name": "stdout",
     "output_type": "stream",
     "text": [
      "Fitting 2 folds for each of 18 candidates, totalling 36 fits\n",
      "[CV] END ..................C=0.4, gamma=0.005, kernel=linear; total time=   1.0s\n",
      "[CV] END ..................C=0.4, gamma=0.005, kernel=linear; total time=   1.0s\n",
      "[CV] END ...................C=0.4, gamma=0.01, kernel=linear; total time=   0.9s\n",
      "[CV] END .....................C=0.4, gamma=0.005, kernel=rbf; total time=   2.1s\n",
      "[CV] END ...................C=0.4, gamma=0.01, kernel=linear; total time=   0.8s\n",
      "[CV] END .....................C=0.4, gamma=0.005, kernel=rbf; total time=   1.8s\n",
      "[CV] END ...................C=0.4, gamma=0.02, kernel=linear; total time=   0.9s\n",
      "[CV] END ......................C=0.4, gamma=0.01, kernel=rbf; total time=   1.6s\n",
      "[CV] END ......................C=0.4, gamma=0.01, kernel=rbf; total time=   1.6s\n",
      "[CV] END ...................C=0.4, gamma=0.02, kernel=linear; total time=   0.9s\n",
      "[CV] END ..................C=0.5, gamma=0.005, kernel=linear; total time=   0.9s\n",
      "[CV] END ......................C=0.4, gamma=0.02, kernel=rbf; total time=   1.6s\n",
      "[CV] END ......................C=0.4, gamma=0.02, kernel=rbf; total time=   1.5s\n",
      "[CV] END ..................C=0.5, gamma=0.005, kernel=linear; total time=   1.1s\n",
      "[CV] END ...................C=0.5, gamma=0.01, kernel=linear; total time=   1.2s\n",
      "[CV] END .....................C=0.5, gamma=0.005, kernel=rbf; total time=   2.2s\n",
      "[CV] END .....................C=0.5, gamma=0.005, kernel=rbf; total time=   2.0s\n",
      "[CV] END ...................C=0.5, gamma=0.01, kernel=linear; total time=   1.0s\n",
      "[CV] END ...................C=0.5, gamma=0.02, kernel=linear; total time=   1.0s\n",
      "[CV] END ......................C=0.5, gamma=0.01, kernel=rbf; total time=   1.7s\n",
      "[CV] END ...................C=0.5, gamma=0.02, kernel=linear; total time=   1.0s\n",
      "[CV] END ......................C=0.5, gamma=0.01, kernel=rbf; total time=   1.8s\n",
      "[CV] END ..................C=0.6, gamma=0.005, kernel=linear; total time=   1.2s\n",
      "[CV] END ......................C=0.5, gamma=0.02, kernel=rbf; total time=   2.0s\n",
      "[CV] END ......................C=0.5, gamma=0.02, kernel=rbf; total time=   2.0s\n",
      "[CV] END ..................C=0.6, gamma=0.005, kernel=linear; total time=   1.3s\n",
      "[CV] END ...................C=0.6, gamma=0.01, kernel=linear; total time=   1.2s\n",
      "[CV] END .....................C=0.6, gamma=0.005, kernel=rbf; total time=   2.1s\n",
      "[CV] END .....................C=0.6, gamma=0.005, kernel=rbf; total time=   2.1s\n",
      "[CV] END ...................C=0.6, gamma=0.01, kernel=linear; total time=   1.4s\n",
      "[CV] END ...................C=0.6, gamma=0.02, kernel=linear; total time=   1.3s\n",
      "[CV] END ......................C=0.6, gamma=0.01, kernel=rbf; total time=   1.9s\n",
      "[CV] END ......................C=0.6, gamma=0.01, kernel=rbf; total time=   2.0s\n",
      "[CV] END ...................C=0.6, gamma=0.02, kernel=linear; total time=   1.0s\n",
      "[CV] END ......................C=0.6, gamma=0.02, kernel=rbf; total time=   1.4s\n",
      "[CV] END ......................C=0.6, gamma=0.02, kernel=rbf; total time=   1.4s\n"
     ]
    },
    {
     "data": {
      "text/html": [
       "<style>#sk-container-id-40 {color: black;background-color: white;}#sk-container-id-40 pre{padding: 0;}#sk-container-id-40 div.sk-toggleable {background-color: white;}#sk-container-id-40 label.sk-toggleable__label {cursor: pointer;display: block;width: 100%;margin-bottom: 0;padding: 0.3em;box-sizing: border-box;text-align: center;}#sk-container-id-40 label.sk-toggleable__label-arrow:before {content: \"▸\";float: left;margin-right: 0.25em;color: #696969;}#sk-container-id-40 label.sk-toggleable__label-arrow:hover:before {color: black;}#sk-container-id-40 div.sk-estimator:hover label.sk-toggleable__label-arrow:before {color: black;}#sk-container-id-40 div.sk-toggleable__content {max-height: 0;max-width: 0;overflow: hidden;text-align: left;background-color: #f0f8ff;}#sk-container-id-40 div.sk-toggleable__content pre {margin: 0.2em;color: black;border-radius: 0.25em;background-color: #f0f8ff;}#sk-container-id-40 input.sk-toggleable__control:checked~div.sk-toggleable__content {max-height: 200px;max-width: 100%;overflow: auto;}#sk-container-id-40 input.sk-toggleable__control:checked~label.sk-toggleable__label-arrow:before {content: \"▾\";}#sk-container-id-40 div.sk-estimator input.sk-toggleable__control:checked~label.sk-toggleable__label {background-color: #d4ebff;}#sk-container-id-40 div.sk-label input.sk-toggleable__control:checked~label.sk-toggleable__label {background-color: #d4ebff;}#sk-container-id-40 input.sk-hidden--visually {border: 0;clip: rect(1px 1px 1px 1px);clip: rect(1px, 1px, 1px, 1px);height: 1px;margin: -1px;overflow: hidden;padding: 0;position: absolute;width: 1px;}#sk-container-id-40 div.sk-estimator {font-family: monospace;background-color: #f0f8ff;border: 1px dotted black;border-radius: 0.25em;box-sizing: border-box;margin-bottom: 0.5em;}#sk-container-id-40 div.sk-estimator:hover {background-color: #d4ebff;}#sk-container-id-40 div.sk-parallel-item::after {content: \"\";width: 100%;border-bottom: 1px solid gray;flex-grow: 1;}#sk-container-id-40 div.sk-label:hover label.sk-toggleable__label {background-color: #d4ebff;}#sk-container-id-40 div.sk-serial::before {content: \"\";position: absolute;border-left: 1px solid gray;box-sizing: border-box;top: 0;bottom: 0;left: 50%;z-index: 0;}#sk-container-id-40 div.sk-serial {display: flex;flex-direction: column;align-items: center;background-color: white;padding-right: 0.2em;padding-left: 0.2em;position: relative;}#sk-container-id-40 div.sk-item {position: relative;z-index: 1;}#sk-container-id-40 div.sk-parallel {display: flex;align-items: stretch;justify-content: center;background-color: white;position: relative;}#sk-container-id-40 div.sk-item::before, #sk-container-id-40 div.sk-parallel-item::before {content: \"\";position: absolute;border-left: 1px solid gray;box-sizing: border-box;top: 0;bottom: 0;left: 50%;z-index: -1;}#sk-container-id-40 div.sk-parallel-item {display: flex;flex-direction: column;z-index: 1;position: relative;background-color: white;}#sk-container-id-40 div.sk-parallel-item:first-child::after {align-self: flex-end;width: 50%;}#sk-container-id-40 div.sk-parallel-item:last-child::after {align-self: flex-start;width: 50%;}#sk-container-id-40 div.sk-parallel-item:only-child::after {width: 0;}#sk-container-id-40 div.sk-dashed-wrapped {border: 1px dashed gray;margin: 0 0.4em 0.5em 0.4em;box-sizing: border-box;padding-bottom: 0.4em;background-color: white;}#sk-container-id-40 div.sk-label label {font-family: monospace;font-weight: bold;display: inline-block;line-height: 1.2em;}#sk-container-id-40 div.sk-label-container {text-align: center;}#sk-container-id-40 div.sk-container {/* jupyter's `normalize.less` sets `[hidden] { display: none; }` but bootstrap.min.css set `[hidden] { display: none !important; }` so we also need the `!important` here to be able to override the default hidden behavior on the sphinx rendered scikit-learn.org. See: https://github.com/scikit-learn/scikit-learn/issues/21755 */display: inline-block !important;position: relative;}#sk-container-id-40 div.sk-text-repr-fallback {display: none;}</style><div id=\"sk-container-id-40\" class=\"sk-top-container\"><div class=\"sk-text-repr-fallback\"><pre>GridSearchCV(cv=2,\n",
       "             estimator=SVC(class_weight=&#x27;balanced&#x27;, probability=True,\n",
       "                           random_state=10),\n",
       "             n_jobs=3,\n",
       "             param_grid={&#x27;C&#x27;: [0.4, 0.5, 0.6], &#x27;gamma&#x27;: [0.005, 0.01, 0.02],\n",
       "                         &#x27;kernel&#x27;: [&#x27;linear&#x27;, &#x27;rbf&#x27;]},\n",
       "             return_train_score=True, scoring=&#x27;roc_auc&#x27;, verbose=2)</pre><b>In a Jupyter environment, please rerun this cell to show the HTML representation or trust the notebook. <br />On GitHub, the HTML representation is unable to render, please try loading this page with nbviewer.org.</b></div><div class=\"sk-container\" hidden><div class=\"sk-item sk-dashed-wrapped\"><div class=\"sk-label-container\"><div class=\"sk-label sk-toggleable\"><input class=\"sk-toggleable__control sk-hidden--visually\" id=\"sk-estimator-id-116\" type=\"checkbox\" ><label for=\"sk-estimator-id-116\" class=\"sk-toggleable__label sk-toggleable__label-arrow\">GridSearchCV</label><div class=\"sk-toggleable__content\"><pre>GridSearchCV(cv=2,\n",
       "             estimator=SVC(class_weight=&#x27;balanced&#x27;, probability=True,\n",
       "                           random_state=10),\n",
       "             n_jobs=3,\n",
       "             param_grid={&#x27;C&#x27;: [0.4, 0.5, 0.6], &#x27;gamma&#x27;: [0.005, 0.01, 0.02],\n",
       "                         &#x27;kernel&#x27;: [&#x27;linear&#x27;, &#x27;rbf&#x27;]},\n",
       "             return_train_score=True, scoring=&#x27;roc_auc&#x27;, verbose=2)</pre></div></div></div><div class=\"sk-parallel\"><div class=\"sk-parallel-item\"><div class=\"sk-item\"><div class=\"sk-label-container\"><div class=\"sk-label sk-toggleable\"><input class=\"sk-toggleable__control sk-hidden--visually\" id=\"sk-estimator-id-117\" type=\"checkbox\" ><label for=\"sk-estimator-id-117\" class=\"sk-toggleable__label sk-toggleable__label-arrow\">estimator: SVC</label><div class=\"sk-toggleable__content\"><pre>SVC(class_weight=&#x27;balanced&#x27;, probability=True, random_state=10)</pre></div></div></div><div class=\"sk-serial\"><div class=\"sk-item\"><div class=\"sk-estimator sk-toggleable\"><input class=\"sk-toggleable__control sk-hidden--visually\" id=\"sk-estimator-id-118\" type=\"checkbox\" ><label for=\"sk-estimator-id-118\" class=\"sk-toggleable__label sk-toggleable__label-arrow\">SVC</label><div class=\"sk-toggleable__content\"><pre>SVC(class_weight=&#x27;balanced&#x27;, probability=True, random_state=10)</pre></div></div></div></div></div></div></div></div></div></div>"
      ],
      "text/plain": [
       "GridSearchCV(cv=2,\n",
       "             estimator=SVC(class_weight='balanced', probability=True,\n",
       "                           random_state=10),\n",
       "             n_jobs=3,\n",
       "             param_grid={'C': [0.4, 0.5, 0.6], 'gamma': [0.005, 0.01, 0.02],\n",
       "                         'kernel': ['linear', 'rbf']},\n",
       "             return_train_score=True, scoring='roc_auc', verbose=2)"
      ]
     },
     "execution_count": 362,
     "metadata": {},
     "output_type": "execute_result"
    }
   ],
   "source": [
    "#creating and fitting the model with grid search to optimize hyperparameters\n",
    "#the cv is small to have a fast training for this implementation\n",
    "\n",
    "\"\"\"First iterations of parameters:\n",
    "param_dist = {  'C':[0.05,0.08,0.1,0.2], \n",
    "                'gamma':[0.05,0.1,0.2], \n",
    "                'kernel':['linear', 'rbf']}\n",
    "\n",
    "SECOND ITERATION\n",
    "param_dist = {\n",
    "    \"C\": [0.4,0.5,0.6],\n",
    "    \"kernel\": [\"linear\", \"rbf\"],\n",
    "    \"gamma\": [0.05,0.01,0.02]\n",
    "}\n",
    "...\n",
    "\"\"\"\n",
    "param_dist = {  'C':[0.4,0.5,0.6], \n",
    "                'gamma':[0.005,0.01,0.02], \n",
    "                'kernel':[\"linear\",'rbf']}\n",
    "#we add the class_weight argument to deal with class imbalance. Only 10% of the observations are positive.\n",
    "model = SVC(class_weight='balanced',probability=True,random_state=SEED)\n",
    "\n",
    "cv = GridSearchCV(model, param_dist, scoring=\"roc_auc\", n_jobs=3, cv=2, verbose=2, return_train_score=True)\n",
    "cv.fit(reduced_data_train_final_svm, y_svm)"
   ]
  },
  {
   "attachments": {},
   "cell_type": "markdown",
   "metadata": {},
   "source": [
    "Here we can see the best hyper parameters combination"
   ]
  },
  {
   "cell_type": "code",
   "execution_count": 364,
   "metadata": {},
   "outputs": [
    {
     "name": "stdout",
     "output_type": "stream",
     "text": [
      "{'C': 0.5, 'gamma': 0.01, 'kernel': 'rbf'}\n",
      "0.8739805093799812\n"
     ]
    }
   ],
   "source": [
    "print(cv.best_params_)\n",
    "print(cv.best_score_)"
   ]
  },
  {
   "attachments": {},
   "cell_type": "markdown",
   "metadata": {},
   "source": [
    "Now we need to reweight the probabilities because we have done modifications for class imbalance"
   ]
  },
  {
   "cell_type": "code",
   "execution_count": 383,
   "metadata": {},
   "outputs": [
    {
     "name": "stderr",
     "output_type": "stream",
     "text": [
      "/Users/javier/opt/anaconda3/lib/python3.9/site-packages/sklearn/base.py:413: UserWarning: X has feature names, but SVC was fitted without feature names\n",
      "  warnings.warn(\n"
     ]
    },
    {
     "data": {
      "text/plain": [
       "<AxesSubplot:title={'center':'prob'}, xlabel='y'>"
      ]
     },
     "execution_count": 383,
     "metadata": {},
     "output_type": "execute_result"
    },
    {
     "data": {
      "image/png": "[encoded data removed]",
      "text/plain": [
       "<Figure size 432x288 with 1 Axes>"
      ]
     },
     "metadata": {
      "needs_background": "light"
     },
     "output_type": "display_data"
    }
   ],
   "source": [
    "reweighted_outsample_pred_res = pd.DataFrame({'y': y, 'prob': pd.Series(cv.predict_proba(data_train_final)[:,1])})\n",
    "reweighted_outsample_pred_res.boxplot(column=\"prob\",by=\"y\")"
   ]
  },
  {
   "cell_type": "code",
   "execution_count": 378,
   "metadata": {},
   "outputs": [
    {
     "name": "stderr",
     "output_type": "stream",
     "text": [
      "/Users/javier/opt/anaconda3/lib/python3.9/site-packages/sklearn/base.py:413: UserWarning: X has feature names, but SVC was fitted without feature names\n",
      "  warnings.warn(\n"
     ]
    },
    {
     "data": {
      "text/plain": [
       "<AxesSubplot:title={'center':'prob'}, xlabel='y'>"
      ]
     },
     "execution_count": 378,
     "metadata": {},
     "output_type": "execute_result"
    },
    {
     "data": {
      "image/png": "[encoded data removed]",
      "text/plain": [
       "<Figure size 432x288 with 1 Axes>"
      ]
     },
     "metadata": {
      "needs_background": "light"
     },
     "output_type": "display_data"
    }
   ],
   "source": [
    "q1 = y.sum()/len(y)\n",
    "r1 = 0.5\n",
    "\n",
    "\n",
    "reweighted_outsample_pred_res = pd.DataFrame({'y': y, 'prob': pd.Series(cv.predict_proba(data_train_final)[:,1]).apply(reweight,args=(q1,r1))})\n",
    "reweighted_outsample_pred_res.boxplot(column=\"prob\",by=\"y\")"
   ]
  },
  {
   "attachments": {},
   "cell_type": "markdown",
   "metadata": {},
   "source": [
    "And now we can train the whole model with those hyper parameters to ensure the model learns all the information the data can give"
   ]
  },
  {
   "cell_type": "code",
   "execution_count": 370,
   "metadata": {},
   "outputs": [
    {
     "data": {
      "text/html": [
       "<style>#sk-container-id-41 {color: black;background-color: white;}#sk-container-id-41 pre{padding: 0;}#sk-container-id-41 div.sk-toggleable {background-color: white;}#sk-container-id-41 label.sk-toggleable__label {cursor: pointer;display: block;width: 100%;margin-bottom: 0;padding: 0.3em;box-sizing: border-box;text-align: center;}#sk-container-id-41 label.sk-toggleable__label-arrow:before {content: \"▸\";float: left;margin-right: 0.25em;color: #696969;}#sk-container-id-41 label.sk-toggleable__label-arrow:hover:before {color: black;}#sk-container-id-41 div.sk-estimator:hover label.sk-toggleable__label-arrow:before {color: black;}#sk-container-id-41 div.sk-toggleable__content {max-height: 0;max-width: 0;overflow: hidden;text-align: left;background-color: #f0f8ff;}#sk-container-id-41 div.sk-toggleable__content pre {margin: 0.2em;color: black;border-radius: 0.25em;background-color: #f0f8ff;}#sk-container-id-41 input.sk-toggleable__control:checked~div.sk-toggleable__content {max-height: 200px;max-width: 100%;overflow: auto;}#sk-container-id-41 input.sk-toggleable__control:checked~label.sk-toggleable__label-arrow:before {content: \"▾\";}#sk-container-id-41 div.sk-estimator input.sk-toggleable__control:checked~label.sk-toggleable__label {background-color: #d4ebff;}#sk-container-id-41 div.sk-label input.sk-toggleable__control:checked~label.sk-toggleable__label {background-color: #d4ebff;}#sk-container-id-41 input.sk-hidden--visually {border: 0;clip: rect(1px 1px 1px 1px);clip: rect(1px, 1px, 1px, 1px);height: 1px;margin: -1px;overflow: hidden;padding: 0;position: absolute;width: 1px;}#sk-container-id-41 div.sk-estimator {font-family: monospace;background-color: #f0f8ff;border: 1px dotted black;border-radius: 0.25em;box-sizing: border-box;margin-bottom: 0.5em;}#sk-container-id-41 div.sk-estimator:hover {background-color: #d4ebff;}#sk-container-id-41 div.sk-parallel-item::after {content: \"\";width: 100%;border-bottom: 1px solid gray;flex-grow: 1;}#sk-container-id-41 div.sk-label:hover label.sk-toggleable__label {background-color: #d4ebff;}#sk-container-id-41 div.sk-serial::before {content: \"\";position: absolute;border-left: 1px solid gray;box-sizing: border-box;top: 0;bottom: 0;left: 50%;z-index: 0;}#sk-container-id-41 div.sk-serial {display: flex;flex-direction: column;align-items: center;background-color: white;padding-right: 0.2em;padding-left: 0.2em;position: relative;}#sk-container-id-41 div.sk-item {position: relative;z-index: 1;}#sk-container-id-41 div.sk-parallel {display: flex;align-items: stretch;justify-content: center;background-color: white;position: relative;}#sk-container-id-41 div.sk-item::before, #sk-container-id-41 div.sk-parallel-item::before {content: \"\";position: absolute;border-left: 1px solid gray;box-sizing: border-box;top: 0;bottom: 0;left: 50%;z-index: -1;}#sk-container-id-41 div.sk-parallel-item {display: flex;flex-direction: column;z-index: 1;position: relative;background-color: white;}#sk-container-id-41 div.sk-parallel-item:first-child::after {align-self: flex-end;width: 50%;}#sk-container-id-41 div.sk-parallel-item:last-child::after {align-self: flex-start;width: 50%;}#sk-container-id-41 div.sk-parallel-item:only-child::after {width: 0;}#sk-container-id-41 div.sk-dashed-wrapped {border: 1px dashed gray;margin: 0 0.4em 0.5em 0.4em;box-sizing: border-box;padding-bottom: 0.4em;background-color: white;}#sk-container-id-41 div.sk-label label {font-family: monospace;font-weight: bold;display: inline-block;line-height: 1.2em;}#sk-container-id-41 div.sk-label-container {text-align: center;}#sk-container-id-41 div.sk-container {/* jupyter's `normalize.less` sets `[hidden] { display: none; }` but bootstrap.min.css set `[hidden] { display: none !important; }` so we also need the `!important` here to be able to override the default hidden behavior on the sphinx rendered scikit-learn.org. See: https://github.com/scikit-learn/scikit-learn/issues/21755 */display: inline-block !important;position: relative;}#sk-container-id-41 div.sk-text-repr-fallback {display: none;}</style><div id=\"sk-container-id-41\" class=\"sk-top-container\"><div class=\"sk-text-repr-fallback\"><pre>SVC(C=0.5, class_weight=&#x27;balanced&#x27;, gamma=0.01, probability=True,\n",
       "    random_state=10)</pre><b>In a Jupyter environment, please rerun this cell to show the HTML representation or trust the notebook. <br />On GitHub, the HTML representation is unable to render, please try loading this page with nbviewer.org.</b></div><div class=\"sk-container\" hidden><div class=\"sk-item\"><div class=\"sk-estimator sk-toggleable\"><input class=\"sk-toggleable__control sk-hidden--visually\" id=\"sk-estimator-id-119\" type=\"checkbox\" checked><label for=\"sk-estimator-id-119\" class=\"sk-toggleable__label sk-toggleable__label-arrow\">SVC</label><div class=\"sk-toggleable__content\"><pre>SVC(C=0.5, class_weight=&#x27;balanced&#x27;, gamma=0.01, probability=True,\n",
       "    random_state=10)</pre></div></div></div></div></div>"
      ],
      "text/plain": [
       "SVC(C=0.5, class_weight='balanced', gamma=0.01, probability=True,\n",
       "    random_state=10)"
      ]
     },
     "execution_count": 370,
     "metadata": {},
     "output_type": "execute_result"
    }
   ],
   "source": [
    "best_SVM_model = model.set_params(**cv.best_params_)\n",
    "best_SVM_model.fit(data_train_final, y)"
   ]
  },
  {
   "cell_type": "code",
   "execution_count": null,
   "metadata": {},
   "outputs": [
    {
     "data": {
      "text/plain": [
       "<AxesSubplot:title={'center':'prob'}, xlabel='y'>"
      ]
     },
     "metadata": {},
     "output_type": "display_data"
    },
    {
     "data": {
      "image/png": "[encoded data removed]",
      "text/plain": [
       "<Figure size 432x288 with 1 Axes>"
      ]
     },
     "metadata": {},
     "output_type": "display_data"
    }
   ],
   "source": [
    "reweighted_outsample_pred_res = pd.DataFrame({'y': y, 'prob': pd.Series(best_SVM_model.predict_proba(data_train_final)[:,1])})\n",
    "reweighted_outsample_pred_res.boxplot(column=\"prob\",by=\"y\")"
   ]
  },
  {
   "cell_type": "code",
   "execution_count": null,
   "metadata": {},
   "outputs": [
    {
     "data": {
      "text/plain": [
       "<AxesSubplot:title={'center':'prob'}, xlabel='y'>"
      ]
     },
     "metadata": {},
     "output_type": "display_data"
    },
    {
     "data": {
      "image/png": "[encoded data removed]",
      "text/plain": [
       "<Figure size 432x288 with 1 Axes>"
      ]
     },
     "metadata": {},
     "output_type": "display_data"
    }
   ],
   "source": [
    "q1 = y.sum()/len(y)\n",
    "r1 = 0.5\n",
    "\n",
    "\n",
    "reweighted_outsample_pred_res = pd.DataFrame({'y': y, 'prob': pd.Series(best_SVM_model.predict_proba(data_train_final)[:,1]).apply(reweight,args=(q1,r1))})\n",
    "reweighted_outsample_pred_res.boxplot(column=\"prob\",by=\"y\")"
   ]
  },
  {
   "cell_type": "code",
   "execution_count": 371,
   "metadata": {},
   "outputs": [
    {
     "data": {
      "text/plain": [
       "0.8178952670765451"
      ]
     },
     "execution_count": 371,
     "metadata": {},
     "output_type": "execute_result"
    }
   ],
   "source": [
    "from sklearn.metrics import roc_auc_score\n",
    "roc_auc_score(y,best_SVM_model.predict(data_train_final))"
   ]
  },
  {
   "attachments": {},
   "cell_type": "markdown",
   "metadata": {},
   "source": [
    "### Output creation"
   ]
  },
  {
   "cell_type": "code",
   "execution_count": null,
   "metadata": {},
   "outputs": [],
   "source": [
    "reweighted_outsample_pred_res_test = pd.Series(best_SVM_model.predict_proba(data_test_final)[:,1]).apply(reweight,args=(q1,r1))"
   ]
  },
  {
   "cell_type": "code",
   "execution_count": 397,
   "metadata": {},
   "outputs": [
    {
     "name": "stderr",
     "output_type": "stream",
     "text": [
      "/Users/javier/opt/anaconda3/lib/python3.9/site-packages/sklearn/base.py:413: UserWarning: X has feature names, but SVC was fitted without feature names\n",
      "  warnings.warn(\n"
     ]
    }
   ],
   "source": [
    "reweighted_outsample_pred_res_test_cv = pd.Series(cv.predict_proba(data_test_final)[:,1]).apply(reweight,args=(q1,r1))"
   ]
  },
  {
   "cell_type": "code",
   "execution_count": 399,
   "metadata": {},
   "outputs": [],
   "source": [
    "# Produce .csv for kaggle testing \n",
    "test_predictions_submit = pd.DataFrame({\"icustay_id\": data_test[\"icustay_id\"], \"HOSPITAL_EXPIRE_FLAG\": reweighted_outsample_pred_res_test_cv})\n",
    "test_predictions_submit.to_csv(\"test_predictions_submit_svm.csv\", index = False)"
   ]
  }
 ],
 "metadata": {
  "colab": {
   "collapsed_sections": [],
   "name": "NearestNeighbors_project.ipynb",
   "provenance": []
  },
  "kernelspec": {
   "display_name": "base",
   "language": "python",
   "name": "python3"
  },
  "language_info": {
   "codemirror_mode": {
    "name": "ipython",
    "version": 3
   },
   "file_extension": ".py",
   "mimetype": "text/x-python",
   "name": "python",
   "nbconvert_exporter": "python",
   "pygments_lexer": "ipython3",
   "version": "3.9.12"
  },
  "toc": {
   "base_numbering": 1,
   "nav_menu": {},
   "number_sections": true,
   "sideBar": true,
   "skip_h1_title": false,
   "title_cell": "Table of Contents",
   "title_sidebar": "Contents",
   "toc_cell": false,
   "toc_position": {},
   "toc_section_display": true,
   "toc_window_display": true
  },
  "vscode": {
   "interpreter": {
    "hash": "ef9976fb54af8ee8df79066cc870653b1489938a47ac38ebc1c5562e362a13ad"
   }
  }
 },
 "nbformat": 4,
 "nbformat_minor": 1
}
